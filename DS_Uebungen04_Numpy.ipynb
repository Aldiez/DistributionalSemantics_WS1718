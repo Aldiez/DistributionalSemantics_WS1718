{
 "cells": [
  {
   "cell_type": "markdown",
   "metadata": {},
   "source": [
    "# Numeric Python : PCA & SVD\n",
    "\n",
    "    Before we start: >>> conda install numpy, matplotlib, pandas\n",
    "\n",
    "## Scientific Programming in Python\n",
    "\n",
    "- open source extension\n",
    "- \"replaces\" MATLAB: it is the modern variant, it consists of a couple of modules\n",
    "- it is faster\n",
    "- it needs less memory\n",
    "- array based calculation\n",
    "- implemented multi-dimensional arrays\n",
    "- improved for scientific computation\n",
    "\n",
    "<img src=\"img/matlab_python_vergleich.png\" title=\"Compairison Matlab with Python modules\"/>\n",
    "Sources:\n",
    "\n",
    "1. https://www.python-kurs.eu/numpy.php\n",
    "2. https://docs.scipy.org/doc/numpy-dev/user/quickstart.html\n",
    "3. http://cs231n.github.io/python-numpy-tutorial/"
   ]
  },
  {
   "cell_type": "markdown",
   "metadata": {},
   "source": [
    "## Basic 'Vocabulary' in Numpy\n",
    "\n",
    "Try out!\n",
    "\n",
    "### Basic algebraic operations\n",
    "\n",
    "- addition\n",
    "- subtraction\n",
    "- multiplication\n",
    "- division\n",
    "    - for Matrix-Matrix, Matrix-Vector, Vector-Vector\n",
    "\n",
    "\n",
    "- scalar product (inner product)\n",
    "- transpose\n",
    "- inverse\n",
    "\n",
    "Matrix filler\n",
    "- numpy.zeros((x,y))\n",
    "- numpy.ones((x,y))\n",
    "- numpy.full((x,y),z)\n",
    "- numpy.eye(x) # pun naming on eye and 'i' in identity matrix...\n",
    "- numpy.random.random((x.y))\n",
    "\n",
    "How do you generate a 3x3 matrix with random integers?"
   ]
  },
  {
   "cell_type": "code",
   "execution_count": null,
   "metadata": {
    "collapsed": true
   },
   "outputs": [],
   "source": [
    "import numpy as np\n",
    "from numpy.linalg import inv\n",
    "\n",
    "# Standard matrix declaration\n",
    "\n",
    "Matrix = np.array([[1,2,3],[4,5,6]])\n",
    "\n",
    "# Random matrix with defined integers\n",
    "A = np.random.randint(5, size=(3,3))\n",
    "B = np.random.randint(-5,5, size=(3,3))\n",
    "v = np.random.randint(10, size=(1,3))\n",
    "w = np.random.randint(10, size=(3,1))\n",
    "vv = np.random.randint(10, size=(1,3))\n",
    "\n",
    "print('Matrix : \\n',Matrix,'\\n')\n",
    "print('A : \\n',A,'\\n')\n",
    "print('B : \\n',B,'\\n')\n",
    "print('v : \\n',v,'\\n')\n",
    "print('w : \\n',w,'\\n')\n",
    "print('ww : \\n',vv,'\\n')"
   ]
  },
  {
   "cell_type": "code",
   "execution_count": null,
   "metadata": {
    "collapsed": true
   },
   "outputs": [],
   "source": [
    "print('add : \\n',A+B,'\\n')\n",
    "print('subs : \\n',A-B,'\\n')\n",
    "print('mult : \\n',A*B,'\\n') # Attention! This is a elementwise multiplication, not the 'standard' matrix multiplication!\n",
    "print('mult : \\n',A.dot(B),'\\n') \n",
    "print('div : \\n',A/B,'\\n')\n",
    "print('inner product v*w: \\n',v.dot(w),'\\n')\n",
    "print('inner product w*vv : \\n',w.dot(vv),'\\n')\n",
    "print('transpose : \\n',A.transpose(),'\\n')\n",
    "print('transpose : \\n',A.T,'\\n') # alternative and shorter transpose\n",
    "print('inverse : \\n',inv(A),'\\n')\n",
    "\n",
    "\n",
    "print('zero matrix : \\n',np.zeros((3,3)),'\\n')\n",
    "print('ones matrix : \\n',np.ones((3,3)),'\\n')\n",
    "print('full matrix : \\n',np.full((3,3),10),'\\n')\n",
    "print('identity : \\n',np.eye(3,3),'\\n')\n",
    "print('matrix with random float numbers : \\n',np.random.random((3,3)),'\\n')"
   ]
  },
  {
   "cell_type": "code",
   "execution_count": null,
   "metadata": {
    "collapsed": true
   },
   "outputs": [],
   "source": [
    "# matrix slicing\n",
    "a = np.arange(15).reshape(3, 5) # generate a 3x5 matrix\n",
    "b = a[:2, 1:3] # slice matrix: first and second row, second and third column\n",
    "print(a)\n",
    "print(b)\n",
    "print(b[0,1]) # pick element: first index row, second index column"
   ]
  },
  {
   "cell_type": "markdown",
   "metadata": {},
   "source": [
    "## Principal Component Analysis\n",
    "\n",
    "Data taken from https://archive.ics.uci.edu/ml/datasets/Iris\n",
    "\n",
    "Source for PCA https://plot.ly/ipython-notebooks/principal-component-analysis/\n",
    "\n",
    "The main question tackling the idea of PCA might be which vector would most closely reconstruct the original data set (= matrix). As you know from the lectures, PCA is used for structuring large data sets, extracting the relevant information from it, and making visible the 'hidden' variables, that is the best fitting correlations between variables.\n",
    "\n",
    "Steps to take for a full PCA:\n",
    "1. Take the whole data set (without the labels)\n",
    "2. Compute the mean vector\n",
    "3. Compute the covariance matrix\n",
    "4. Compute eigenvectors and the corresponding eigenvalues\n",
    "5. Pick the eigenvectors with the largest eigenvalues to form a new matrix\n",
    "6. Use this eigenvector matrix to transform the samples into a new subspace\n",
    "\n",
    "What we do __different__ than in the lecture: Here we are stardardizing the data as an additional step. It depends on the data, whether it needs to be standardized or not. If we were measuring on different scales, standardization would make sense. Here we are doing it for the compairison between both approaches PCA and SVD.\n"
   ]
  },
  {
   "cell_type": "code",
   "execution_count": 32,
   "metadata": {
    "collapsed": true,
    "scrolled": false
   },
   "outputs": [],
   "source": [
    "import numpy as np\n",
    "import pandas as pd\n",
    "\n",
    "# open raw data\n",
    "raw_data = pd.read_csv(filepath_or_buffer='data/iris.data', header=None, sep=',')\n",
    "\n",
    "raw_data.columns=['Sepalum_Länge','Sepalum_Breite','Blüten-Länge', 'Blüten-Breite','Kategorie']\n",
    "raw_data.dropna(how=\"all\", inplace=True)\n",
    "\n",
    "# display data in table\n",
    "raw_data.tail()"
   ]
  },
  {
   "cell_type": "code",
   "execution_count": null,
   "metadata": {
    "collapsed": true
   },
   "outputs": [],
   "source": [
    "# slice the raw data into the matrix X and the (category) vector y\n",
    "X = raw_data.ix[:,0:4].values\n",
    "y = raw_data.ix[:,4].values"
   ]
  },
  {
   "cell_type": "code",
   "execution_count": 34,
   "metadata": {},
   "outputs": [
    {
     "data": {
      "image/png": "[encoded data removed]",
      "text/plain": [
       "<matplotlib.figure.Figure at 0xa2f9278>"
      ]
     },
     "metadata": {},
     "output_type": "display_data"
    }
   ],
   "source": [
    "from matplotlib import pyplot as plt\n",
    "import math\n",
    "\n",
    "# display chart with the matrix values\n",
    "label_dict = {1: 'Iris-Setosa',\n",
    "              2: 'Iris-Versicolor',\n",
    "              3: 'Iris-Virginica'}\n",
    "\n",
    "feature_dict = {0: 'Sepalum Länge [cm]',\n",
    "                1: 'Sepalum Breite [cm]',\n",
    "                2: 'Blüten Länge [cm]',\n",
    "                3: 'Blüten Breite [cm]'}\n",
    "\n",
    "with plt.style.context('seaborn-whitegrid'):\n",
    "    plt.figure(figsize=(8, 6))\n",
    "    for cnt in range(4):\n",
    "        plt.subplot(2, 2, cnt+1)\n",
    "        for lab in ('Iris-setosa', 'Iris-versicolor', 'Iris-virginica'):\n",
    "            plt.hist(X[y==lab, cnt],\n",
    "                     label=lab,\n",
    "                     bins=10,\n",
    "                     alpha=0.3,)\n",
    "        plt.xlabel(feature_dict[cnt])\n",
    "    plt.legend(loc='upper right', fancybox=True, fontsize=8)\n",
    "\n",
    "    plt.tight_layout()\n",
    "    plt.show()"
   ]
  },
  {
   "cell_type": "markdown",
   "metadata": {},
   "source": [
    "### Covariance Matrix\n",
    "\n",
    "__Q: How large is our sample data covariance matrix?__\n",
    "\n",
    "_A: It is a 4x4 covariance matrix._\n",
    "\n",
    "We include an additional step here, which is standardization. It wasn't discussed in the lectures yet."
   ]
  },
  {
   "cell_type": "code",
   "execution_count": 35,
   "metadata": {
    "collapsed": true,
    "scrolled": true
   },
   "outputs": [],
   "source": [
    "from sklearn.preprocessing import StandardScaler\n",
    "X_std = StandardScaler().fit_transform(X)"
   ]
  },
  {
   "cell_type": "markdown",
   "metadata": {},
   "source": [
    "Recall the formula for calculation the covariance matrix _cov_:\n",
    "\n",
    "$\n",
    "cov(x,y) = \\frac{1}{n - 1}\\sum_{i=1}^n (x_i - \\bar{x})(y_i - \\bar{y})\n",
    "$\n",
    "\n",
    "with more than two variables, this formula might look different:\n",
    "\n",
    "$\n",
    "cov(a,b,x,y) = \\frac{1}{n - 1}((X - \\bar{x})^{T}(X - \\bar{x}))\n",
    "$\n",
    "\n",
    "In our case, there are 4 variables, let's call them a,b,x,y. The second formula must be applied, since there are more than two variables. This formula is taken from the source at the beginning of the PCA section."
   ]
  },
  {
   "cell_type": "code",
   "execution_count": 36,
   "metadata": {
    "collapsed": true,
    "scrolled": true
   },
   "outputs": [],
   "source": [
    "import numpy as np\n",
    "mean_vec = np.mean(X_std, axis=0)\n",
    "cov_mat = (X_std - mean_vec).T.dot((X_std - mean_vec)) / (X_std.shape[0]-1)\n",
    "print('Covariance matrix \\n%s' %cov_mat)"
   ]
  },
  {
   "cell_type": "markdown",
   "metadata": {},
   "source": [
    "For the next step, __Eigendecomposition__, eigenvectors and eigenvalues are needed.\n",
    "\n",
    "__Q: What do eigenvectors and eigenvalues look like?__\n",
    "\n",
    "_A: Eigenvectors are 'summarized' as a 4x4 matrix; Eigenvalues as a 4x1 vector! Basically, you have a matrix of eigenvectors and a vector of eigenvalues._"
   ]
  },
  {
   "cell_type": "code",
   "execution_count": 37,
   "metadata": {
    "collapsed": true,
    "scrolled": true
   },
   "outputs": [],
   "source": [
    "# Alternatively, numpy has a cov() function for the covariance matrix. \n",
    "# Thus, the formula and the implementation of the formula are scoped by this function.\n",
    "cov_mat_alt = np.cov(X_std.T)\n",
    "print('NumPy covariance matrix: \\n%s' %cov_mat_alt)\n",
    "\n",
    "# Derive eigenvalues and eigenvectors with the eig() function: np.linalg.eig(cov_mat)\n",
    "eig_vals, eig_vecs = np.linalg.eig(cov_mat)\n",
    "\n",
    "print('Eigenvectors \\n%s' %eig_vecs)\n",
    "print('\\nEigenvalues \\n%s' %eig_vals)"
   ]
  },
  {
   "cell_type": "markdown",
   "metadata": {},
   "source": [
    "### Correlation Matrix\n",
    "\n",
    "The correlation matrix as another way to perform eigendecomposition. It can be used alternatively to PCA or SVD.\n",
    "\n",
    "The correlation matrix wasn't discussed in the lectures."
   ]
  },
  {
   "cell_type": "code",
   "execution_count": null,
   "metadata": {
    "collapsed": true
   },
   "outputs": [],
   "source": [
    "cor_mat1 = np.corrcoef(X_std.T)\n",
    "\n",
    "eig_vals, eig_vecs = np.linalg.eig(cor_mat1)\n",
    "\n",
    "print('Eigenvectors \\n%s' %eig_vecs)\n",
    "print('\\nEigenvalues \\n%s' %eig_vals)"
   ]
  },
  {
   "cell_type": "markdown",
   "metadata": {},
   "source": [
    "## Singular Value Decomposition"
   ]
  },
  {
   "cell_type": "code",
   "execution_count": null,
   "metadata": {
    "collapsed": true,
    "scrolled": true
   },
   "outputs": [],
   "source": [
    "u,s,v = np.linalg.svd(X_std.T)\n",
    "print(u)"
   ]
  },
  {
   "cell_type": "markdown",
   "metadata": {},
   "source": [
    "## Reducing the dimensions\n",
    "\n",
    "The following step is necessary in order to reduce the dimensions, that is picking the most promising eigenvector(s) and dropping the ones with the least information. In our example, wie take _ __k__ _ = 2 eigenvectors. These vectors will feature the new subspace.\n",
    "\n",
    "__Q: Have a look at the eigenvectors. Which ones do we pick?__\n",
    "\n",
    "_ A: We pick those ones, which have the highest value. The higher the value, the higher also the correlation between two variables._"
   ]
  },
  {
   "cell_type": "code",
   "execution_count": 38,
   "metadata": {
    "collapsed": true
   },
   "outputs": [],
   "source": [
    "# Make a list of (eigenvalue, eigenvector) tuples\n",
    "eig_pairs = [(np.abs(eig_vals[i]), eig_vecs[:,i]) for i in range(len(eig_vals))]\n",
    "\n",
    "# Sort the (eigenvalue, eigenvector) tuples from high to low\n",
    "eig_pairs.sort()\n",
    "eig_pairs.reverse()"
   ]
  },
  {
   "cell_type": "markdown",
   "metadata": {},
   "source": [
    "Last step:\n",
    "\n",
    "Use the 4x2 dimensional matrix to transform our sample data to the new subspace $Y = X  \\times  W$, where $Y$ is a 150x2 matrix."
   ]
  },
  {
   "cell_type": "code",
   "execution_count": 39,
   "metadata": {
    "collapsed": true
   },
   "outputs": [],
   "source": [
    "matrix_w = np.hstack((eig_pairs[0][1].reshape(4,1), \n",
    "                      eig_pairs[1][1].reshape(4,1)))\n",
    "\n",
    "print('Matrix W:\\n', matrix_w)"
   ]
  },
  {
   "cell_type": "markdown",
   "metadata": {},
   "source": [
    "Build the new subspace $Y$."
   ]
  },
  {
   "cell_type": "code",
   "execution_count": 40,
   "metadata": {
    "collapsed": true
   },
   "outputs": [],
   "source": [
    "Y = X_std.dot(matrix_w)"
   ]
  },
  {
   "cell_type": "code",
   "execution_count": 41,
   "metadata": {
    "scrolled": true
   },
   "outputs": [
    {
     "data": {
      "image/png": "[encoded data removed]",
      "text/plain": [
       "<matplotlib.figure.Figure at 0xa32f2e8>"
      ]
     },
     "metadata": {},
     "output_type": "display_data"
    }
   ],
   "source": [
    "# Plot the results and enjoy the correlation between the information richest vectors. :)\n",
    "with plt.style.context('seaborn-whitegrid'):\n",
    "    plt.figure(figsize=(6, 4))\n",
    "    for lab, col in zip(('Iris-setosa', 'Iris-versicolor', 'Iris-virginica'),\n",
    "                        ('blue', 'red', 'green')):\n",
    "        plt.scatter(Y[y==lab, 0],\n",
    "                    Y[y==lab, 1],\n",
    "                    label=lab,\n",
    "                    c=col)\n",
    "    plt.xlabel('Principal Component 1')\n",
    "    plt.ylabel('Principal Component 2')\n",
    "    plt.legend(loc='lower center')\n",
    "    plt.tight_layout()\n",
    "    plt.show()"
   ]
  },
  {
   "cell_type": "markdown",
   "metadata": {},
   "source": [
    "#### Further Readings\n",
    "1. https://blog.statsbot.co/singular-value-decomposition-tutorial-52c695315254\n",
    "2. http://sebastianraschka.com/Articles/2015_pca_in_3_steps.html\n",
    "3. https://pythonhosted.org/algopy/examples/covariance_matrix_computation.html"
   ]
  }
 ],
 "metadata": {
  "kernelspec": {
   "display_name": "Python 3",
   "language": "python",
   "name": "python3"
  },
  "language_info": {
   "codemirror_mode": {
    "name": "ipython",
    "version": 3
   },
   "file_extension": ".py",
   "mimetype": "text/x-python",
   "name": "python",
   "nbconvert_exporter": "python",
   "pygments_lexer": "ipython3",
   "version": "3.6.3"
  }
 },
 "nbformat": 4,
 "nbformat_minor": 2
}
