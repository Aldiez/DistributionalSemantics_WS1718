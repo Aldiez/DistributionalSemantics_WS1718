{
 "cells": [
  {
   "cell_type": "markdown",
   "metadata": {},
   "source": [
    "# Logistic Regression\n",
    "\n",
    "Logistic Regression is a procedure to solve classification tasks. The output is a number which predicts the class of some new entry. In this course there will be only two classes, but multiple classes are also imaginable.\n",
    "\n",
    "### Procedure\n",
    "1. Access and visualize your data\n",
    "2. Extra: a glimpse of the linear approach\n",
    "3. Declare matrices and vectors from the data\n",
    "4. Set the formulas: sigmoid, cost function, gradient descent, (prediction function)\n",
    "5. Adjust and plot the decision boundary"
   ]
  },
  {
   "cell_type": "markdown",
   "metadata": {},
   "source": [
    "## Import modules"
   ]
  },
  {
   "cell_type": "code",
   "execution_count": 11,
   "metadata": {
    "collapsed": true
   },
   "outputs": [],
   "source": [
    "import numpy as np\n",
    "import matplotlib.pyplot as plt\n",
    "import pandas as pd"
   ]
  },
  {
   "cell_type": "markdown",
   "metadata": {},
   "source": [
    "## Reading in the data"
   ]
  },
  {
   "cell_type": "code",
   "execution_count": 12,
   "metadata": {
    "scrolled": true
   },
   "outputs": [
    {
     "data": {
      "text/html": [
       "<div>\n",
       "<style>\n",
       "    .dataframe thead tr:only-child th {\n",
       "        text-align: right;\n",
       "    }\n",
       "\n",
       "    .dataframe thead th {\n",
       "        text-align: left;\n",
       "    }\n",
       "\n",
       "    .dataframe tbody tr th {\n",
       "        vertical-align: top;\n",
       "    }\n",
       "</style>\n",
       "<table border=\"1\" class=\"dataframe\">\n",
       "  <thead>\n",
       "    <tr style=\"text-align: right;\">\n",
       "      <th></th>\n",
       "      <th>Test 1</th>\n",
       "      <th>Test 2</th>\n",
       "      <th>Admitted</th>\n",
       "    </tr>\n",
       "  </thead>\n",
       "  <tbody>\n",
       "    <tr>\n",
       "      <th>0</th>\n",
       "      <td>34.623660</td>\n",
       "      <td>78.024693</td>\n",
       "      <td>0</td>\n",
       "    </tr>\n",
       "    <tr>\n",
       "      <th>1</th>\n",
       "      <td>30.286711</td>\n",
       "      <td>43.894998</td>\n",
       "      <td>0</td>\n",
       "    </tr>\n",
       "    <tr>\n",
       "      <th>2</th>\n",
       "      <td>35.847409</td>\n",
       "      <td>72.902198</td>\n",
       "      <td>0</td>\n",
       "    </tr>\n",
       "    <tr>\n",
       "      <th>3</th>\n",
       "      <td>60.182599</td>\n",
       "      <td>86.308552</td>\n",
       "      <td>1</td>\n",
       "    </tr>\n",
       "    <tr>\n",
       "      <th>4</th>\n",
       "      <td>79.032736</td>\n",
       "      <td>75.344376</td>\n",
       "      <td>1</td>\n",
       "    </tr>\n",
       "    <tr>\n",
       "      <th>5</th>\n",
       "      <td>45.083277</td>\n",
       "      <td>56.316372</td>\n",
       "      <td>0</td>\n",
       "    </tr>\n",
       "    <tr>\n",
       "      <th>6</th>\n",
       "      <td>61.106665</td>\n",
       "      <td>96.511426</td>\n",
       "      <td>1</td>\n",
       "    </tr>\n",
       "    <tr>\n",
       "      <th>7</th>\n",
       "      <td>75.024746</td>\n",
       "      <td>46.554014</td>\n",
       "      <td>1</td>\n",
       "    </tr>\n",
       "    <tr>\n",
       "      <th>8</th>\n",
       "      <td>76.098787</td>\n",
       "      <td>87.420570</td>\n",
       "      <td>1</td>\n",
       "    </tr>\n",
       "    <tr>\n",
       "      <th>9</th>\n",
       "      <td>84.432820</td>\n",
       "      <td>43.533393</td>\n",
       "      <td>1</td>\n",
       "    </tr>\n",
       "  </tbody>\n",
       "</table>\n",
       "</div>"
      ],
      "text/plain": [
       "      Test 1     Test 2  Admitted\n",
       "0  34.623660  78.024693         0\n",
       "1  30.286711  43.894998         0\n",
       "2  35.847409  72.902198         0\n",
       "3  60.182599  86.308552         1\n",
       "4  79.032736  75.344376         1\n",
       "5  45.083277  56.316372         0\n",
       "6  61.106665  96.511426         1\n",
       "7  75.024746  46.554014         1\n",
       "8  76.098787  87.420570         1\n",
       "9  84.432820  43.533393         1"
      ]
     },
     "execution_count": 12,
     "metadata": {},
     "output_type": "execute_result"
    }
   ],
   "source": [
    "data = pd.read_csv('data/scores.txt', names=['Test 1', 'Test 2', 'Admitted']) # path to data\n",
    "data[:10]"
   ]
  },
  {
   "cell_type": "markdown",
   "metadata": {},
   "source": [
    "## Prediction function with admitted/not-admitted data points"
   ]
  },
  {
   "cell_type": "code",
   "execution_count": 7,
   "metadata": {},
   "outputs": [
    {
     "name": "stdout",
     "output_type": "stream",
     "text": [
      "[ 0.01  -0.003]\n"
     ]
    }
   ],
   "source": [
    "# Initial weights are arbitrary\n",
    "w_lin2 = -0.003\n",
    "w_lin1 = 0.01\n",
    "\n",
    "w_hyp =  np.array([w_lin1, w_lin2]).T\n",
    "print(w_hyp)"
   ]
  },
  {
   "cell_type": "code",
   "execution_count": 8,
   "metadata": {},
   "outputs": [
    {
     "data": {
      "text/plain": [
       "(100, 1)"
      ]
     },
     "execution_count": 8,
     "metadata": {},
     "output_type": "execute_result"
    }
   ],
   "source": [
    "data = np.array(data)\n",
    "test1 = data[:,:1]\n",
    "passed = data[:,2:3]\n",
    "np.shape(test1)"
   ]
  },
  {
   "cell_type": "code",
   "execution_count": 5,
   "metadata": {
    "collapsed": true
   },
   "outputs": [],
   "source": [
    "def hypothesis(weight_1, weight_2, x):\n",
    "    return weight_1*x + weight_2\n",
    "\n",
    "#hypothesis(w_lin1, w_lin2, test1)"
   ]
  },
  {
   "cell_type": "code",
   "execution_count": 9,
   "metadata": {
    "scrolled": true
   },
   "outputs": [
    {
     "data": {
      "image/png": "[encoded data removed]",
      "text/plain": [
       "<matplotlib.figure.Figure at 0x99a5048>"
      ]
     },
     "metadata": {},
     "output_type": "display_data"
    }
   ],
   "source": [
    "plt.scatter(test1,passed, c='blue')\n",
    "\n",
    "plt.plot(test1, hypothesis(w_lin1, w_lin2, test1), c='red')\n",
    "\n",
    "plt.xlabel('Test 1 results')\n",
    "plt.ylabel('Passed tests')\n",
    "plt.show()"
   ]
  },
  {
   "cell_type": "markdown",
   "metadata": {},
   "source": [
    "Problem: The prediction must take only two values 0 and 1. That is, we do not want to have our prediction to have arbitrarily large or small values."
   ]
  },
  {
   "cell_type": "markdown",
   "metadata": {},
   "source": [
    "# Plotting the data"
   ]
  },
  {
   "cell_type": "code",
   "execution_count": 13,
   "metadata": {},
   "outputs": [
    {
     "data": {
      "image/png": "[encoded data removed]",
      "text/plain": [
       "<matplotlib.figure.Figure at 0x9a93cc0>"
      ]
     },
     "metadata": {},
     "output_type": "display_data"
    }
   ],
   "source": [
    "axes = plt.gca()\n",
    "\n",
    "admitted = np.array(data.loc[data['Admitted'] == 1][['Test 1', 'Test 2']])\n",
    "not_admitted = np.array(data.loc[data['Admitted'] == 0][['Test 1', 'Test 2']])\n",
    "\n",
    "plt.scatter(admitted[:,0], admitted[:,1], c='blue')\n",
    "plt.scatter(not_admitted[:,0], not_admitted[:,1], c='red')\n",
    "\n",
    "axes.set_ylim([25, 100])\n",
    "axes.set_xlim([25, 100])\n",
    "\n",
    "plt.xlabel('Test 1')\n",
    "plt.ylabel('Test 2')\n",
    "\n",
    "plt.show()"
   ]
  },
  {
   "cell_type": "markdown",
   "metadata": {},
   "source": [
    "# Instantiating X and y"
   ]
  },
  {
   "cell_type": "code",
   "execution_count": 15,
   "metadata": {},
   "outputs": [
    {
     "name": "stdout",
     "output_type": "stream",
     "text": [
      "[[ 34.62365962  78.02469282]\n",
      " [ 30.28671077  43.89499752]\n",
      " [ 35.84740877  72.90219803]\n",
      " [ 60.18259939  86.3085521 ]\n",
      " [ 79.03273605  75.34437644]]\n",
      "[[0]\n",
      " [0]\n",
      " [0]\n",
      " [1]\n",
      " [1]]\n"
     ]
    }
   ],
   "source": [
    "X = np.array(data[['Test 1', 'Test 2']]) # set a matrix with the scores as its elements\n",
    "y = np.array([data['Admitted']]).T # the vector contains for each matrix row two values: 0 for failed, 1 for passed\n",
    "m = X.shape[0] # m-dim of the matrix: number of 'students'\n",
    "n = X.shape[1] # n-dim of the matrix: number of written tests (2 in total)\n",
    "print(X[:5])\n",
    "print(y[:5])"
   ]
  },
  {
   "cell_type": "markdown",
   "metadata": {},
   "source": [
    "# Adding the ones to X\n",
    "\n",
    "In order to vectorize the prediction function, the rows of X and the dimension of the weight vector w musst be identical. Thus, the feature vector (rows of the matrix) must be extended with ones."
   ]
  },
  {
   "cell_type": "code",
   "execution_count": 16,
   "metadata": {},
   "outputs": [
    {
     "data": {
      "text/plain": [
       "array([[ 34.62365962,  78.02469282,   1.        ],\n",
       "       [ 30.28671077,  43.89499752,   1.        ],\n",
       "       [ 35.84740877,  72.90219803,   1.        ],\n",
       "       [ 60.18259939,  86.3085521 ,   1.        ],\n",
       "       [ 79.03273605,  75.34437644,   1.        ]])"
      ]
     },
     "execution_count": 16,
     "metadata": {},
     "output_type": "execute_result"
    }
   ],
   "source": [
    "ones = np.ones((m, 1))\n",
    "X = np.hstack((X, ones))\n",
    "X[:5]"
   ]
  },
  {
   "cell_type": "markdown",
   "metadata": {},
   "source": [
    "# Initializing w"
   ]
  },
  {
   "cell_type": "code",
   "execution_count": 17,
   "metadata": {
    "collapsed": true
   },
   "outputs": [],
   "source": [
    "w = np.zeros((n + 1, 1))"
   ]
  },
  {
   "cell_type": "markdown",
   "metadata": {},
   "source": [
    "# Defining the sigmoid function (or _logistic_ function)\n",
    "\n",
    "$g(z) = \\frac{1}{1 + e^{-z}}$"
   ]
  },
  {
   "cell_type": "code",
   "execution_count": 18,
   "metadata": {
    "collapsed": true
   },
   "outputs": [],
   "source": [
    "def sigmoid(z): # write the sigmoid function\n",
    "    return 1/(1 + np.exp(-z))"
   ]
  },
  {
   "cell_type": "markdown",
   "metadata": {},
   "source": [
    "Compose $f(x) = w^Tx$ with the sigmoid function:\n",
    "\n",
    "$f(x) =  g(w^Tx) = \\frac{1}{1 + e^{-w^Tx}}$"
   ]
  },
  {
   "cell_type": "code",
   "execution_count": 29,
   "metadata": {
    "collapsed": true
   },
   "outputs": [],
   "source": [
    "y_pred = sigmoid(X.dot(w)) # write the composed prediction function"
   ]
  },
  {
   "cell_type": "code",
   "execution_count": 26,
   "metadata": {},
   "outputs": [
    {
     "data": {
      "image/png": "[encoded data removed]",
      "text/plain": [
       "<matplotlib.figure.Figure at 0x9f4d550>"
      ]
     },
     "metadata": {},
     "output_type": "display_data"
    }
   ],
   "source": [
    "sig_x = np.array([-3.5 ,-3 ,-2.5 ,-2 ,-1.5 ,-1 ,-0.5 ,0 ,0.5 ,1 ,1.5 ,2 ,2.5 ,3 ,3.5])\n",
    "\n",
    "plt.plot(sig_x,sigmoid(sig_x), c='cyan')\n",
    "\n",
    "plt.xlabel('x-axis')\n",
    "plt.ylabel('y-axis')\n",
    "\n",
    "plt.xlim([-3.5,3.5])\n",
    "plt.ylim([0,1])\n",
    "\n",
    "plt.show()"
   ]
  },
  {
   "cell_type": "markdown",
   "metadata": {},
   "source": [
    "# Defining the cost function\n",
    "\n",
    "$LogCost(w) = \\frac{1}{m} (-y^T\\log(f(X)) - (1 - y)^T \\log (1 - f(X)))$"
   ]
  },
  {
   "cell_type": "code",
   "execution_count": 27,
   "metadata": {},
   "outputs": [
    {
     "name": "stdout",
     "output_type": "stream",
     "text": [
      "Initial cost with all of the weights set to zero:  [[ 0.69314718]]\n"
     ]
    }
   ],
   "source": [
    "def cost(y_pred, y):\n",
    "    return (1/m) * (-y.T.dot(np.log(y_pred)) - (1 - y).T.dot(np.log(1 - y_pred))) #task\n",
    "\n",
    "print(\"Initial cost with all of the weights set to zero: \", cost(y_pred, y))"
   ]
  },
  {
   "cell_type": "markdown",
   "metadata": {},
   "source": [
    "# Gradient descent"
   ]
  },
  {
   "cell_type": "code",
   "execution_count": 32,
   "metadata": {
    "scrolled": true
   },
   "outputs": [
    {
     "data": {
      "text/plain": [
       "array([[  0.15767916],\n",
       "       [  0.15228738],\n",
       "       [-19.08468795]])"
      ]
     },
     "execution_count": 32,
     "metadata": {},
     "output_type": "execute_result"
    }
   ],
   "source": [
    "alpha = 0.001\n",
    "num_iters = 2000000\n",
    "\n",
    "def gradient_descent(X, w, y, m, alpha, num_iters):\n",
    "    cost_history = np.zeros((num_iters, 1))\n",
    "    for i in range(num_iters):\n",
    "        y_pred = sigmoid(X.dot(w))\n",
    "        w = w - alpha * (1/m) * (X.T.dot((y_pred - y)))\n",
    "        cost_history[i] = cost(y_pred, y)\n",
    "    return y_pred, w, cost_history\n",
    "\n",
    "y_pred, w, cost_history = gradient_descent(X, w, y, m, alpha, num_iters)\n",
    "w"
   ]
  },
  {
   "cell_type": "markdown",
   "metadata": {},
   "source": [
    "# Plotting cost history"
   ]
  },
  {
   "cell_type": "code",
   "execution_count": 33,
   "metadata": {
    "scrolled": true
   },
   "outputs": [
    {
     "data": {
      "image/png": "[encoded data removed]",
      "text/plain": [
       "<matplotlib.figure.Figure at 0x9fc6a20>"
      ]
     },
     "metadata": {},
     "output_type": "display_data"
    },
    {
     "name": "stdout",
     "output_type": "stream",
     "text": [
      "[[ 0.21041328]\n",
      " [ 0.21041327]\n",
      " [ 0.21041327]\n",
      " [ 0.21041326]\n",
      " [ 0.21041325]]\n"
     ]
    }
   ],
   "source": [
    "x = range(num_iters)\n",
    "\n",
    "plt.plot(x, cost_history)\n",
    "plt.show()\n",
    "print(cost_history[-5:])"
   ]
  },
  {
   "cell_type": "markdown",
   "metadata": {},
   "source": [
    "# Computing accuracy score"
   ]
  },
  {
   "cell_type": "code",
   "execution_count": 34,
   "metadata": {},
   "outputs": [
    {
     "data": {
      "text/plain": [
       "0.89000000000000001"
      ]
     },
     "execution_count": 34,
     "metadata": {},
     "output_type": "execute_result"
    }
   ],
   "source": [
    "y_pred = sigmoid(X.dot(w))\n",
    "y_train_pred = np.round(y_pred)\n",
    "\n",
    "from sklearn.metrics import accuracy_score\n",
    "\n",
    "accuracy_score(y_train_pred, y)"
   ]
  },
  {
   "cell_type": "markdown",
   "metadata": {},
   "source": [
    "The new weights computed from the gradient descent can be used to draw the decision boundary with the following formula:\n",
    "\n",
    "$y = \\frac{-w_1}{w_3} + \\frac{-w_2}{w_3}x$"
   ]
  },
  {
   "cell_type": "code",
   "execution_count": 37,
   "metadata": {},
   "outputs": [
    {
     "name": "stdout",
     "output_type": "stream",
     "text": [
      "[  30.           30.70707071   31.41414141   32.12121212   32.82828283\n",
      "   33.53535354   34.24242424   34.94949495   35.65656566   36.36363636\n",
      "   37.07070707   37.77777778   38.48484848   39.19191919   39.8989899\n",
      "   40.60606061   41.31313131   42.02020202   42.72727273   43.43434343\n",
      "   44.14141414   44.84848485   45.55555556   46.26262626   46.96969697\n",
      "   47.67676768   48.38383838   49.09090909   49.7979798    50.50505051\n",
      "   51.21212121   51.91919192   52.62626263   53.33333333   54.04040404\n",
      "   54.74747475   55.45454545   56.16161616   56.86868687   57.57575758\n",
      "   58.28282828   58.98989899   59.6969697    60.4040404    61.11111111\n",
      "   61.81818182   62.52525253   63.23232323   63.93939394   64.64646465\n",
      "   65.35353535   66.06060606   66.76767677   67.47474747   68.18181818\n",
      "   68.88888889   69.5959596    70.3030303    71.01010101   71.71717172\n",
      "   72.42424242   73.13131313   73.83838384   74.54545455   75.25252525\n",
      "   75.95959596   76.66666667   77.37373737   78.08080808   78.78787879\n",
      "   79.49494949   80.2020202    80.90909091   81.61616162   82.32323232\n",
      "   83.03030303   83.73737374   84.44444444   85.15151515   85.85858586\n",
      "   86.56565657   87.27272727   87.97979798   88.68686869   89.39393939\n",
      "   90.1010101    90.80808081   91.51515152   92.22222222   92.92929293\n",
      "   93.63636364   94.34343434   95.05050505   95.75757576   96.46464646\n",
      "   97.17171717   97.87878788   98.58585859   99.29292929  100.        ]\n"
     ]
    },
    {
     "data": {
      "image/png": "[encoded data removed]",
      "text/plain": [
       "<matplotlib.figure.Figure at 0xc86d390>"
      ]
     },
     "metadata": {},
     "output_type": "display_data"
    }
   ],
   "source": [
    "we_1, we_2, we_3 = w\n",
    "\n",
    "\n",
    "# see the coutour approach for a more general solution\n",
    "ex1 = np.linspace(30, 100, 100)\n",
    "ex2 = we_3/(-we_1) + we_2/(-we_1)*ex1\n",
    "#render_exams(data, admitted, rejected)\n",
    "\n",
    "plt.plot(ex1, ex2, color='r', label='decision boundary');\n",
    "plt.show();"
   ]
  },
  {
   "cell_type": "code",
   "execution_count": 36,
   "metadata": {
    "scrolled": true
   },
   "outputs": [
    {
     "data": {
      "image/png": "[encoded data removed]",
      "text/plain": [
       "<matplotlib.figure.Figure at 0xc97c780>"
      ]
     },
     "metadata": {},
     "output_type": "display_data"
    }
   ],
   "source": [
    "axes = plt.gca()\n",
    "\n",
    "admitted = np.array(data.loc[data['Admitted'] == 1][['Test 1', 'Test 2']])\n",
    "not_admitted = np.array(data.loc[data['Admitted'] == 0][['Test 1', 'Test 2']])\n",
    "\n",
    "plt.scatter(admitted[:,0], admitted[:,1], c='blue')\n",
    "plt.scatter(not_admitted[:,0], not_admitted[:,1], c='red')\n",
    "plt.plot(ex1, ex2, c='green')\n",
    "\n",
    "axes.set_ylim([25, 100])\n",
    "axes.set_xlim([25, 100])\n",
    "\n",
    "plt.xlabel('Test 1')\n",
    "plt.ylabel('Test 2')\n",
    "\n",
    "plt.show()"
   ]
  },
  {
   "cell_type": "markdown",
   "metadata": {},
   "source": [
    "### Further ressources\n",
    "\n",
    "https://user.phil.hhu.de/~petersen/SoSe17_Teamprojekt/logisticRegression.html"
   ]
  }
 ],
 "metadata": {
  "anaconda-cloud": {},
  "kernelspec": {
   "display_name": "Python 3",
   "language": "python",
   "name": "python3"
  },
  "language_info": {
   "codemirror_mode": {
    "name": "ipython",
    "version": 3
   },
   "file_extension": ".py",
   "mimetype": "text/x-python",
   "name": "python",
   "nbconvert_exporter": "python",
   "pygments_lexer": "ipython3",
   "version": "3.6.3"
  }
 },
 "nbformat": 4,
 "nbformat_minor": 2
}
