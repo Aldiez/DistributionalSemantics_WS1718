{
 "cells": [
  {
   "cell_type": "markdown",
   "metadata": {},
   "source": [
    "# Distributional Semantics (Übung): Anaconda & Python\n",
    "## Installiere Anaconda\n",
    "Download hier: https://www.anaconda.com/download/\n",
    "\n",
    "Falls es Probleme mit QT geben sollte, Anaconda Prompt öffnen und eingeben:\n",
    "    >>> conda install qt\n",
    "    \n",
    "Anschließend kann Anaconda über das Start-Menü geöffnet werden.\n",
    "\n",
    "## Vorteile von Anaconda\n",
    "\n",
    "Anaconda enthält eine praktische Vielzahl von vor-konfigurierten Bibliotheken und Erweiterungen. Es kommt zusammen u.a. mit Jupyter, eine Art Notebook-Dokumentation mit Computer Code. Mithilfe der markdown Sprache können ganze wissenschaftliche Abhandlungen darin verfasst werden; der geschriebene Code ist ausführbar und das Notebook lässt sich leicht teilen.\n",
    "\n",
    "Benötigte Erweiterungen oder Kernels lassen sich einfach nachinstallieren. Weiterer Pluspunkt: es läuft auf Windows!\n",
    "\n",
    "...\n",
    "1. hat Python\n",
    "2. hat Jupyter (Übungen werden darüber verteilt)\n",
    "3. vereint schönstes Markdown mit Programm-code\n",
    "4. einfache Installation von relevanten Packages\n",
    "\n",
    "..."
   ]
  },
  {
   "cell_type": "markdown",
   "metadata": {},
   "source": [
    "## Installation über Terminal (Ubuntu)\n",
    "### 1. Download Ubuntu 16 über deren Homepage: https://www.ubuntu.com/download/desktop\n",
    "Anschließend Installation über VMware :)\n",
    "\n",
    "Full name: distsem\n",
    "User name / Password: distsem\n",
    "\n",
    "Virtual Machine name: Ubuntu_DS\n",
    "Settings: 25GB/2GB Memory\n",
    "\n",
    "\n",
    "### 2. Installation notwendiger Pakete für Python 3\n",
    "\n",
    "Anleitung unter https://docs.anaconda.com/anaconda/install/linux\n",
    "\n",
    "   #### ODER\n",
    "\n",
    "Installation für erfahrene Python3:\n",
    "\n",
    "    >>> sudo apt-get -y install python3-pip\n",
    "    >>> sudo pip3 install --upgrade pip\n",
    "    >>> sudo pip3 install jupyter\n",
    "    \n",
    "Starte das Jupyter Notebook mit:\n",
    "    >>> jupyter notebook"
   ]
  },
  {
   "cell_type": "markdown",
   "metadata": {},
   "source": [
    "## Speed Dating with Python\n",
    "\n",
    "- Python wurde Ende 1980er von Guido van Rossum entwickelt\n",
    "- Ziel: Das Programmieren soll einfach sein und Spaß machen!\n",
    "- Die Syntax ist dabei besonders übersichtlich und lesbar\n",
    "    - klare Struktur mit eingerücktem Text\n",
    "    - spart mit Klammern und Sonderzeichen\n",
    "    - klare Benennung von Funktionen, Bedingungen, Schleifen, Variablen\n",
    "    \n",
    "Weitere Vorteile: Python ist sehr gut Dokumentiert und es gibt sehr viel, sehr gute Literatur/Videos dazu! Es enthält viele Bibliotheken und Module, die vor allem auch für (Computer-) Linguisten interessant sind. (Und InfoWissler!)\n",
    "\n",
    "\n",
    "\n",
    "### Online Tutorials\n",
    "1. https://www.coursera.org/learn/learn-to-program\n",
    "2. https://www.python-kurs.eu/\n",
    "3. https://cs231n.github.io/python-numpy-tutorial/ (numpy)\n",
    "4. https://www.sololearn.com/ (App, Game)\n",
    "5. https://www.youtube.com/playlist?list=PLW4q9wXio6F4o09weiFMBhZciH6zXgnt0 (Video-Tutorial mit Corey Schafer)\n"
   ]
  },
  {
   "cell_type": "markdown",
   "metadata": {
    "collapsed": true
   },
   "source": [
    "## Hello World!"
   ]
  },
  {
   "cell_type": "code",
   "execution_count": null,
   "metadata": {
    "collapsed": true,
    "scrolled": false
   },
   "outputs": [],
   "source": [
    "#simple output command\n",
    "print(\"Hello World!\")"
   ]
  },
  {
   "cell_type": "code",
   "execution_count": null,
   "metadata": {
    "collapsed": true,
    "scrolled": false
   },
   "outputs": [],
   "source": [
    "#concatenation of strings with +\n",
    "print(\"Hello \" + \"World!\")"
   ]
  },
  {
   "cell_type": "code",
   "execution_count": null,
   "metadata": {
    "collapsed": true,
    "scrolled": false
   },
   "outputs": [],
   "source": [
    "#conversion before concatenation\n",
    "print(\"Hello \" + \"World!\" + str(42))"
   ]
  },
  {
   "cell_type": "code",
   "execution_count": null,
   "metadata": {
    "collapsed": true,
    "scrolled": false
   },
   "outputs": [],
   "source": [
    "x = \"Hello \"\n",
    "y = \"World!\"\n",
    "print(x + y)"
   ]
  },
  {
   "cell_type": "code",
   "execution_count": null,
   "metadata": {
    "collapsed": true,
    "scrolled": false
   },
   "outputs": [],
   "source": [
    "#String slicing\n",
    "word = \"hello\"\n",
    "print(word[0])\n",
    "print(word[-1])\n",
    "print(word[1:-1])\n",
    "print(word[0:-1:2])"
   ]
  },
  {
   "cell_type": "markdown",
   "metadata": {},
   "source": [
    "## Data types"
   ]
  },
  {
   "cell_type": "code",
   "execution_count": null,
   "metadata": {
    "collapsed": true,
    "scrolled": false
   },
   "outputs": [],
   "source": [
    "#Integers are real numbers\n",
    "print(21 + 11 + 10)"
   ]
  },
  {
   "cell_type": "code",
   "execution_count": null,
   "metadata": {
    "collapsed": true,
    "scrolled": false
   },
   "outputs": [],
   "source": [
    "#Floating-point numbers\n",
    "print(float(3))\n",
    "\n",
    "#convert back to integer type\n",
    "print(int(float(3)))"
   ]
  },
  {
   "cell_type": "code",
   "execution_count": null,
   "metadata": {
    "collapsed": true,
    "scrolled": false
   },
   "outputs": [],
   "source": [
    "#Strings\n",
    "print(\"You have seen me above!\")\n",
    "print(str(24))\n",
    "\n",
    "x = 4\n",
    "y = \"5\"\n",
    "#for arithmetic operations be careful with your data type! Adding strings and integers will cause an error\n",
    "print(x + int(y))\n",
    "\n",
    "#arithemitic operations with float type will turn all integer into float type\n",
    "print(int(x) + float(y))"
   ]
  },
  {
   "cell_type": "code",
   "execution_count": null,
   "metadata": {
    "collapsed": true,
    "scrolled": false
   },
   "outputs": [],
   "source": [
    "#if you are not sure about the type, you can check with the type() method\n",
    "x = 1\n",
    "y = 2.0\n",
    "z = \"string\"\n",
    "\n",
    "print(type(x))\n",
    "print(type(y))\n",
    "print(type(z))"
   ]
  },
  {
   "cell_type": "markdown",
   "metadata": {},
   "source": [
    "## Arithmetics"
   ]
  },
  {
   "cell_type": "code",
   "execution_count": null,
   "metadata": {
    "collapsed": true,
    "scrolled": false
   },
   "outputs": [],
   "source": [
    "# Operations\n",
    "x = 3\n",
    "y = 6\n",
    "\n",
    "print(\"Addition + : \" + str(x+y))\n",
    "print(\"Substraction - : \" + str(x-y))\n",
    "print(\"Multiplication * : \" + str(x*y))\n",
    "print(\"Division / : \" + str(y/x))\n",
    "print(\"Exponent ** : \" + str(y**x))\n",
    "print(\"Floor Division // : \" + str(x//y))\n",
    "print(\"Modulo % : \" +str(x%y))\n",
    "\n",
    "###\n",
    "\n",
    "print(\"Round number : \" + str(round(-23.45)))\n",
    "print(\"Round number with decimal place : \" + str(round(23.45, 1)))\n",
    "print(\"Absolute Value : \" +str(abs(-5)))"
   ]
  },
  {
   "cell_type": "markdown",
   "metadata": {},
   "source": [
    "### Operation Precedence\n",
    "    **  >  %,/,//,*  >  +,-"
   ]
  },
  {
   "cell_type": "code",
   "execution_count": null,
   "metadata": {
    "collapsed": true,
    "scrolled": false
   },
   "outputs": [],
   "source": [
    "# Shorthands\n",
    "a = 1\n",
    "a += 2 #correspond a = a + 2\n",
    "print(a)\n",
    "\n",
    "b = 3\n",
    "b **= 2 #correspond b = b**2\n",
    "print(b)"
   ]
  },
  {
   "cell_type": "code",
   "execution_count": null,
   "metadata": {
    "collapsed": true,
    "scrolled": false
   },
   "outputs": [],
   "source": [
    "# There is no incremental function in python!\n",
    "x=1\n",
    "y=2\n",
    "print(++x)\n",
    "print(y++)"
   ]
  },
  {
   "cell_type": "markdown",
   "metadata": {},
   "source": [
    "## Boolean"
   ]
  },
  {
   "cell_type": "code",
   "execution_count": null,
   "metadata": {
    "collapsed": true,
    "scrolled": false
   },
   "outputs": [],
   "source": [
    "t = True\n",
    "f = False\n",
    "\n",
    "print(type(t))\n",
    "print(type(f))"
   ]
  },
  {
   "cell_type": "code",
   "execution_count": null,
   "metadata": {
    "collapsed": true,
    "scrolled": false
   },
   "outputs": [],
   "source": [
    "t = bool(1)\n",
    "f = bool(0)\n",
    "\n",
    "print(type(t))\n",
    "print(type(f))\n",
    "print(t)\n",
    "print(f)"
   ]
  },
  {
   "cell_type": "code",
   "execution_count": null,
   "metadata": {
    "collapsed": true,
    "scrolled": false
   },
   "outputs": [],
   "source": [
    "print (t and f)"
   ]
  },
  {
   "cell_type": "code",
   "execution_count": null,
   "metadata": {
    "collapsed": true,
    "scrolled": false
   },
   "outputs": [],
   "source": [
    "print(t or f)"
   ]
  },
  {
   "cell_type": "code",
   "execution_count": null,
   "metadata": {
    "collapsed": true,
    "scrolled": false
   },
   "outputs": [],
   "source": [
    "print(not f)"
   ]
  },
  {
   "cell_type": "code",
   "execution_count": null,
   "metadata": {
    "collapsed": true,
    "scrolled": false
   },
   "outputs": [],
   "source": [
    "print(t and not f)"
   ]
  },
  {
   "cell_type": "markdown",
   "metadata": {},
   "source": [
    "### Comparison Operations return boolean values\n",
    "\n",
    "    1. Equal:            ==\n",
    "    2. Not Equal:        !=\n",
    "    3. Greater Than:     >\n",
    "    4. Less Than:        <\n",
    "    5. Greater or Equal: >=\n",
    "    6. Less or Equal:    <="
   ]
  },
  {
   "cell_type": "code",
   "execution_count": null,
   "metadata": {
    "collapsed": true,
    "scrolled": false
   },
   "outputs": [],
   "source": [
    "x = 5\n",
    "y = 6\n",
    "\n",
    "print(x==y)\n",
    "print(x!=y)\n",
    "print(x>y)\n",
    "print(x<y)\n",
    "print(x>=y)\n",
    "print(x<=y)"
   ]
  },
  {
   "cell_type": "markdown",
   "metadata": {},
   "source": [
    "## Lists"
   ]
  },
  {
   "cell_type": "code",
   "execution_count": null,
   "metadata": {
    "collapsed": true,
    "scrolled": false
   },
   "outputs": [],
   "source": [
    "#lists always come with square brackets\n",
    "arr = [5,2,6,89,54,2,56,8,7,42]\n",
    "print(type(arr))\n",
    "print(len(arr))\n",
    "print(arr)"
   ]
  },
  {
   "cell_type": "code",
   "execution_count": null,
   "metadata": {
    "collapsed": true,
    "scrolled": false
   },
   "outputs": [],
   "source": [
    "#list slicing\n",
    "arr2 = arr[0]\n",
    "arr3 = arr[2:7] #if you want to let the index until the end, just let the second entry open, such as [2:]\n",
    "arr4 = arr[8:1:-2]\n",
    "print(arr2)\n",
    "print(arr3)\n",
    "print(arr4)\n",
    "\n",
    "#get the last element of a list\n",
    "print(arr4[-1])"
   ]
  },
  {
   "cell_type": "code",
   "execution_count": null,
   "metadata": {
    "collapsed": true,
    "scrolled": false
   },
   "outputs": [],
   "source": [
    "#update and assign any data type into a list\n",
    "arr5 = arr\n",
    "liste = [\"a\",'b', 4.5]\n",
    "arr5[1] = \"foo\"\n",
    "arr5[5] = [\"a\",'b', 4.5] #use extend() to avoid embedded lists\n",
    "arr5.append('end')\n",
    "arr5.insert(0,'start')\n",
    "print(arr5)"
   ]
  },
  {
   "cell_type": "code",
   "execution_count": null,
   "metadata": {
    "collapsed": true,
    "scrolled": false
   },
   "outputs": [],
   "source": [
    "# The pop() function\n",
    "# This function takes and removes the last element of a list\n",
    "\n",
    "abc = ['a','b','c','d']\n",
    "print(abc)\n",
    "\n",
    "abc.pop()\n",
    "print(abc)\n",
    "\n",
    "popped = abc.pop()\n",
    "print(abc)\n",
    "print(popped)"
   ]
  },
  {
   "cell_type": "code",
   "execution_count": null,
   "metadata": {
    "collapsed": true,
    "scrolled": false
   },
   "outputs": [],
   "source": [
    "# reverse() reverses the order of the list ...\n",
    "\n",
    "abc = ['a','b','c','d']\n",
    "abc.reverse()\n",
    "\n",
    "print(abc)"
   ]
  },
  {
   "cell_type": "code",
   "execution_count": null,
   "metadata": {
    "collapsed": true,
    "scrolled": false
   },
   "outputs": [],
   "source": [
    "# ... while sort() sorts numerically/alphabetically the elements in a list\n",
    "\n",
    "arr = [5,2,6,89,54,2,56,8,7,42]\n",
    "arr.sort()\n",
    "\n",
    "print(arr)\n",
    "\n",
    "# the sort() function also takes attributes, such as reverse=True"
   ]
  },
  {
   "cell_type": "code",
   "execution_count": null,
   "metadata": {
    "collapsed": true,
    "scrolled": false
   },
   "outputs": [],
   "source": [
    "# sorted() returns a sorted list, but doesn't manipulate the original list. It must be assigned to a variable\n",
    "\n",
    "abc = ['c','a','e','b','d']\n",
    "abc_sorted = sorted(abc)\n",
    "\n",
    "print(abc)\n",
    "print(abc_sorted)"
   ]
  },
  {
   "cell_type": "markdown",
   "metadata": {},
   "source": [
    "There are further functions, such as min(), max(), index()"
   ]
  },
  {
   "cell_type": "code",
   "execution_count": null,
   "metadata": {
    "collapsed": true
   },
   "outputs": [],
   "source": [
    "print(min(abc))\n",
    "print(max(abc))\n",
    "print(abc.index('b'))"
   ]
  },
  {
   "cell_type": "code",
   "execution_count": null,
   "metadata": {
    "collapsed": true,
    "scrolled": false
   },
   "outputs": [],
   "source": [
    "abc_str = ' - '.join(abc)\n",
    "abc_new = abc_str.split(' - ')\n",
    "\n",
    "print(abc_str)\n",
    "print(abc_new)"
   ]
  },
  {
   "cell_type": "code",
   "execution_count": null,
   "metadata": {
    "collapsed": true
   },
   "outputs": [],
   "source": [
    "# Creating empty lists\n",
    "list_1 = []\n",
    "list_2 = list()\n",
    "print(type(list_1))\n",
    "print(type(list_2))"
   ]
  }
 ],
 "metadata": {
  "kernelspec": {
   "display_name": "Python 3",
   "language": "python",
   "name": "python3"
  },
  "language_info": {
   "codemirror_mode": {
    "name": "ipython",
    "version": 3
   },
   "file_extension": ".py",
   "mimetype": "text/x-python",
   "name": "python",
   "nbconvert_exporter": "python",
   "pygments_lexer": "ipython3",
   "version": "3.6.1"
  }
 },
 "nbformat": 4,
 "nbformat_minor": 2
}
