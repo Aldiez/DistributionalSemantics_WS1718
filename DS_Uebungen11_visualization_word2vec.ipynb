{
 "cells": [
  {
   "cell_type": "code",
   "execution_count": 3,
   "metadata": {
    "collapsed": true
   },
   "outputs": [],
   "source": [
    "# source: https://www.quora.com/How-do-I-visualise-word2vec-word-vectors\n",
    "# author: Vered Shwartz, Arizona State University\n",
    "\n",
    "# information: This is for Python2 only!\n",
    "# Some vector files might contain additional information in the first line and cause an error with this code.\n",
    "# Just delete such lines and everthing should be fine!\n",
    "\n",
    "import sys\n",
    "import codecs\n",
    "import numpy as np\n",
    "import matplotlib.pyplot as plt\n",
    "%matplotlib qt5\n",
    "\n",
    "from sklearn.manifold import TSNE\n",
    "\n",
    "\n",
    "def main():\n",
    "\n",
    "    embeddings_file = sys.argv[1]\n",
    "    wv, vocabulary = load_embeddings(embeddings_file)\n",
    "\n",
    "    tsne = TSNE(n_components=2, random_state=0)\n",
    "    np.set_printoptions(suppress=True)\n",
    "    Y = tsne.fit_transform(wv[:1000,:])\n",
    "\n",
    "    plt.scatter(Y[:, 0], Y[:, 1])\n",
    "    for label, x, y in zip(vocabulary, Y[:, 0], Y[:, 1]):\n",
    "        plt.annotate(label, xy=(x, y), xytext=(0, 0), textcoords='offset points')\n",
    "    plt.show()\n",
    "\n",
    "\n",
    "def load_embeddings(file_name):\n",
    "    \n",
    "    file_name = \"data/testmodel.txt\"\n",
    "    with codecs.open(file_name, 'r', 'utf-8') as f_in:\n",
    "        vocabulary, wv = zip(*[line.strip().split(' ', 1) for line in f_in])\n",
    "    wv = np.loadtxt(wv)\n",
    "    return wv, vocabulary\n",
    "\n",
    "if __name__ == '__main__':\n",
    "    main()"
   ]
  }
 ],
 "metadata": {
  "kernelspec": {
   "display_name": "Python 2",
   "language": "python",
   "name": "python2"
  },
  "language_info": {
   "codemirror_mode": {
    "name": "ipython",
    "version": 2
   },
   "file_extension": ".py",
   "mimetype": "text/x-python",
   "name": "python",
   "nbconvert_exporter": "python",
   "pygments_lexer": "ipython2",
   "version": "2.7.14"
  }
 },
 "nbformat": 4,
 "nbformat_minor": 2
}
