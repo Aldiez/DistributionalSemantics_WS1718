{
 "cells": [
  {
   "cell_type": "markdown",
   "metadata": {},
   "source": [
    "# Introduction to Python (continuation) + Object Oriented Programming"
   ]
  },
  {
   "cell_type": "markdown",
   "metadata": {},
   "source": [
    "## Tuples"
   ]
  },
  {
   "cell_type": "code",
   "execution_count": null,
   "metadata": {
    "collapsed": true
   },
   "outputs": [],
   "source": [
    "t = ('a','b','c')\n",
    "print(type(t))\n",
    "print(t)"
   ]
  },
  {
   "cell_type": "code",
   "execution_count": null,
   "metadata": {
    "collapsed": true
   },
   "outputs": [],
   "source": [
    "t[0] = \"hello\""
   ]
  },
  {
   "cell_type": "code",
   "execution_count": null,
   "metadata": {
    "collapsed": true
   },
   "outputs": [],
   "source": [
    "t['a'] = 'b'"
   ]
  },
  {
   "cell_type": "code",
   "execution_count": null,
   "metadata": {
    "collapsed": true
   },
   "outputs": [],
   "source": [
    "# Tuples are immutable, unlike lists which are mutable. That is, tuples cannot be modified. Compare lists and tuples:\n",
    "list_1 = ['History', 'Math', 'Physics','CompSci']\n",
    "list_2 = list_1\n",
    "\n",
    "print(list_1)\n",
    "print(list_2)\n",
    "\n",
    "# The pointer of both lists points at the same reference. Result: manipulating one list means also manipulating the other\n",
    "list_2[0] = 'Art'\n",
    "\n",
    "print(list_1)\n",
    "print(list_2)"
   ]
  },
  {
   "cell_type": "code",
   "execution_count": null,
   "metadata": {
    "collapsed": true
   },
   "outputs": [],
   "source": [
    "# Tuples cannot be manipulated in the same manner as lists, although they look similar\n",
    "\n",
    "tuple_1 = ('History', 'Math', 'Physics','CompSci')\n",
    "tuple_2 = tuple_1\n",
    "\n",
    "print(tuple_1)\n",
    "print(tuple_2)\n",
    "\n",
    "# Manipulating: Trial and error\n",
    "tuple_2[0] = 'Art'\n"
   ]
  },
  {
   "cell_type": "code",
   "execution_count": null,
   "metadata": {
    "collapsed": true
   },
   "outputs": [],
   "source": [
    "# tuples can be used as keys in dictionaries\n",
    "\n",
    "t = ('a','b','c')\n",
    "\n",
    "some_dict = dict() # same as some_dict = {}\n",
    "some_dict[t] = 5\n",
    "print(some_dict)"
   ]
  },
  {
   "cell_type": "code",
   "execution_count": null,
   "metadata": {
    "collapsed": true
   },
   "outputs": [],
   "source": [
    "# lists are mutable, that is they don't fit to be keys\n",
    "u = ['a','list']\n",
    "some_dict[u] = 6\n",
    "print(some_dict)"
   ]
  },
  {
   "cell_type": "markdown",
   "metadata": {},
   "source": [
    "## Functions\n",
    "\n",
    "Functions are handy for recurring operations; they are instruction packages for specific tasks\n",
    "\n",
    "Structure of functions:\n",
    "\n",
    "    1.  'def' creates the function\n",
    "    2.  function-name\n",
    "    3.  parantheses for passing values to the function"
   ]
  },
  {
   "cell_type": "code",
   "execution_count": null,
   "metadata": {
    "collapsed": true
   },
   "outputs": [],
   "source": [
    "def hello_world():\n",
    "    pass\n",
    "\n",
    "print(hello_world())\n",
    "\n",
    "# keep your code DRY (Don't Repeat Yourserlf)!"
   ]
  },
  {
   "cell_type": "code",
   "execution_count": null,
   "metadata": {
    "collapsed": true
   },
   "outputs": [],
   "source": [
    "def sign(x):\n",
    "    if x < 0:\n",
    "        return 'negative'\n",
    "    else:\n",
    "        return 'positive'\n",
    "    \n",
    "for i in [4,-6,-5,2,77,-3]:\n",
    "    print(sign(i))"
   ]
  },
  {
   "cell_type": "code",
   "execution_count": null,
   "metadata": {
    "collapsed": true
   },
   "outputs": [],
   "source": [
    "def sign(x,return_long=False):\n",
    "    if x < 0:\n",
    "        if return_long:\n",
    "            return 'input is a negative number'\n",
    "        else:\n",
    "            return 'negative'\n",
    "    else:\n",
    "        if return_long:\n",
    "            return 'input is a positive number'\n",
    "        else:\n",
    "            return 'positive'\n",
    "\n",
    "for i in [1,2,-5]:\n",
    "    print(sign(i))"
   ]
  },
  {
   "cell_type": "code",
   "execution_count": null,
   "metadata": {
    "collapsed": true
   },
   "outputs": [],
   "source": [
    "for i in [1,2,-5]:\n",
    "    print(sign(i,return_long=True))"
   ]
  },
  {
   "cell_type": "markdown",
   "metadata": {},
   "source": [
    "## Challenges!\n",
    "\n",
    "1. Schreibe eine Funktion, die die Summe aus jedem input bildet\n",
    "2. Schreibe eine Funktion, die jede Liste annimmt und eine neue Liste nur mit positiven Zahlen ausgibt\n",
    "3. Schreibe eine Funktion, die eine Zahl daraufhin überprüft, ob es eine Primzahl ist"
   ]
  },
  {
   "cell_type": "code",
   "execution_count": null,
   "metadata": {
    "collapsed": true
   },
   "outputs": [],
   "source": [
    "# Summenfunktion\n",
    "a = [-1,2,-3,4,-5,6,-7,8,-9,10]\n",
    "def summe(x):\n",
    "    return sum(x)\n",
    "summe(a)"
   ]
  },
  {
   "cell_type": "code",
   "execution_count": null,
   "metadata": {
    "collapsed": true
   },
   "outputs": [],
   "source": [
    "def posnumbers(x,p=[]):\n",
    "    for i in x:\n",
    "        if i > 0:\n",
    "            p.append(i)\n",
    "    return p\n",
    "\n",
    "print(posnumbers(a))"
   ]
  },
  {
   "cell_type": "code",
   "execution_count": null,
   "metadata": {
    "collapsed": true
   },
   "outputs": [],
   "source": [
    "def primzahl(prim):\n",
    "    if prim > 1:\n",
    "        for i in range(2,prim):\n",
    "            if (prim%i) == 0:\n",
    "                print(prim,\"ist keine Primzahl\")\n",
    "                break\n",
    "        else:\n",
    "            print(prim,\"ist eine Primzahl\")\n",
    "    else:\n",
    "        print(prim,\": Die Primzahl ist eine natürliche Zahl größer eins\")\n",
    "        \n",
    "for a in range(int(input()),int(input())): \n",
    "# Mit den beiden input() lässt sich der Bereich eingrenzen, der auf Primzahlen untersucht werden soll\n",
    "    primzahl(a)"
   ]
  },
  {
   "cell_type": "markdown",
   "metadata": {},
   "source": [
    "## Object Oriented Programming (OOP)\n",
    "\n",
    "There are basically two programming styles: imparative and OOP.\n",
    "\n",
    "The imparative style targets the \"problem\" directly, that is the programm runs in a succeeding order of Imparatives. OOP encapsulates these \"Imparatives\" into smaller packages which can be accessed, reused and performed anytime after instantiation. Using classes and subclasses results in less code which is reduced to the essential operations. This also reduces possibilities of making mistakes __and__ looks more elegant!\n",
    "\n",
    "The reuse of code is what we desire: other packages, which we are going to use in the future, are written as OOP. The access of different methods in packets, such as NLTK, NumPy, SciKit, etc., is basically the same as accessing different objects of a class."
   ]
  },
  {
   "cell_type": "markdown",
   "metadata": {},
   "source": [
    "### What is a class?\n",
    "\n",
    "A class is not an object but rather a blueprint or description of one or more objects. A class is a logical arrangement of Data."
   ]
  },
  {
   "cell_type": "code",
   "execution_count": null,
   "metadata": {
    "collapsed": true
   },
   "outputs": [],
   "source": [
    "# Each class is introduced with the \"class\" keyword, followed by the class name and colon.\n",
    "# Everything inside the class must be intended\n",
    "# \"pass\" is a placeholder. Python will know that some code will follow later\n",
    "\n",
    "class Animal:\n",
    "    pass\n",
    "\n",
    "# Instance variables\n",
    "dog_1 = Animal()\n",
    "dog_2 = Animal()\n",
    "\n",
    "# both are two different instances of our Animal class\n",
    "\n",
    "# Printing both instances will show different locations in the memory\n",
    "print(dog_1)\n",
    "print(dog_2)"
   ]
  },
  {
   "cell_type": "code",
   "execution_count": null,
   "metadata": {
    "collapsed": true
   },
   "outputs": [],
   "source": [
    "class Animal:\n",
    "    pass\n",
    "\n",
    "dog_1 = Animal()\n",
    "dog_2 = Animal()\n",
    "\n",
    "# Now I want to enrich my instances with further attributes\n",
    "\n",
    "dog_1.name = 'Scooby'\n",
    "dog_1.owner_first = 'Shaggy'\n",
    "dog_1.owner_last = 'Rogers'\n",
    "dog_1.legs = 4\n",
    "dog_1.breed = 'great dane'\n",
    "dog_1.color = 'brown'\n",
    "\n",
    "dog_2.name = 'Lassie'\n",
    "dog_2.owner_first = 'Corey'\n",
    "dog_2.owner_last = 'Stuart'\n",
    "dog_2.legs = 4\n",
    "dog_2.breed = 'rough collie'\n",
    "dog_2.color = 'tricolor'\n",
    "\n",
    "# The attribute 'breed' was created for each instance\n",
    "print(dog_1.breed)\n",
    "print(dog_2.breed)\n",
    "\n",
    "# Instead of writing all the instances (and so much code!) seperately, which is prone to mistakes, \n",
    "# better group this information in a class and let the instances create automatically"
   ]
  },
  {
   "cell_type": "code",
   "execution_count": null,
   "metadata": {
    "collapsed": true
   },
   "outputs": [],
   "source": [
    "class Animal:\n",
    "    \n",
    "# This class contains a (class) method. A method is a function associated with a class.\n",
    "\n",
    "# __init__ is the most important method of a class. It is called 'constructor' sometimes. This method is crucial to\n",
    "# refere to the objects (methods) of a class. The name of the class is used as a function\n",
    "# self: all methods, such as __init__, must contain 'self' as their attribute. \n",
    "# Anyway, this attribute is not necessary when calling an object or method. Python does it automatically.\n",
    "\n",
    "    def __init__(self, name, owner_first, owner_last, legs, breed, color):\n",
    "        self.name = name\n",
    "        self.owner_first = owner_first\n",
    "        self.owner_last = owner_last\n",
    "        self.owner_name = owner_first + ' ' + owner_last\n",
    "        self.legs = legs\n",
    "        self.breed = breed \n",
    "        self.color = color\n",
    "\n",
    "# Now, creating instances is much more of a straitforward process. The values can now be passed directly into \n",
    "# the parantheses of the instance. Caution: pass the values in the right order! \n",
    "\n",
    "dog_1 = Animal('Scooby','Shaggy','Rogers',4,'great dane','brown')\n",
    "dog_2 = Animal('Lassie','Corey','Stuart',4,'rough collie','tricolor')\n",
    "\n",
    "# The instance name 'dog_1' and 'dog_2' are passed automatically as 'self' to the __init__ method\n",
    "\n",
    "# The attributes were passed correctly, just as in the example above\n",
    "print(dog_1.breed)\n",
    "print(dog_2.breed)\n",
    "\n",
    "# Have a look at the attribute 'owner_name', which isn't passed to the class as a value, but generated by assigning\n",
    "# the first and the last name of the owner.\n",
    "\n",
    "print(dog_1.owner_name)\n",
    "print(dog_2.owner_name)\n",
    "\n",
    "# Alternative access:\n",
    "print('{} {}'.format(dog_1.owner_first, dog_1.owner_last))\n",
    "print('{} {}'.format(dog_2.owner_first, dog_2.owner_last))"
   ]
  },
  {
   "cell_type": "code",
   "execution_count": null,
   "metadata": {
    "collapsed": true
   },
   "outputs": [],
   "source": [
    "# A third alternative would be to reuse those values in its own method\n",
    "\n",
    "class Animal:\n",
    "    \n",
    "    def __init__(self, name, owner_first, owner_last, legs, breed, color):\n",
    "        self.name = name\n",
    "        self.owner_first = owner_first\n",
    "        self.owner_last = owner_last\n",
    "        self.legs = legs\n",
    "        self.breed = breed \n",
    "        self.color = color\n",
    "        \n",
    "    def ownername(self):\n",
    "        return self.owner_first + ' ' + self.owner_last\n",
    "        \n",
    "dog_1 = Animal('Scooby','Shaggy','Rogers',4,'great dane','brown')\n",
    "dog_2 = Animal('Lassie','Corey','Stuart',4,'rough collie','tricolor')\n",
    "\n",
    "# The self attribute is the only one I need here, since the other attributes are passed down through the class to the method.\n",
    "# Now I can just call the ownername() function to access the full name. Caution: Parantheses are necessary!\n",
    "# Use Parantheses for returning the values instead of the \"method\" itself.\n",
    "\n",
    "print(dog_1.ownername())\n",
    "\n",
    "\n",
    "# Try to delete the self attribute from the ownername() function. Result: Error message (0 positional arguments but 1 was given)\n",
    "# why is that so?\n",
    "# The 'dog_1' is passed automatically as self!\n",
    "# It becomes obvious, when using the calling from the class itself\n",
    "\n",
    "Animal.ownername(dog_1) # Hopefully, the correlation of the instance and the self attribute is clear here"
   ]
  },
  {
   "cell_type": "code",
   "execution_count": null,
   "metadata": {
    "collapsed": true
   },
   "outputs": [],
   "source": [
    "# Now consider an attribute that is shared among all classes. It has to be unique.\n",
    "# This attribute can be constituted as a class attribute (which is a class variable).\n",
    "\n",
    "class Animal:\n",
    "    \n",
    "    legs = 4\n",
    "    \n",
    "    def __init__(self, name, owner_first, owner_last, breed, color):\n",
    "        self.name = name\n",
    "        self.owner_first = owner_first\n",
    "        self.owner_last = owner_last\n",
    "        self.breed = breed \n",
    "        self.color = color\n",
    "        \n",
    "    def ownername(self):\n",
    "        return self.owner_first + ' ' + self.owner_last\n",
    "    \n",
    "dog_1 = Animal('Scooby','Shaggy','Rogers','great dane','brown')\n",
    "dog_2 = Animal('Lassie','Corey','Stuart','rough collie','tricolor')\n",
    "\n",
    "print(dog_1.legs)\n",
    "print(dog_2.legs)\n",
    "print(dog_1.__dict__)\n",
    "print(Animal.__dict__)"
   ]
  },
  {
   "cell_type": "code",
   "execution_count": null,
   "metadata": {
    "collapsed": true
   },
   "outputs": [],
   "source": [
    "# Imagine, I want to extend my class with more subclasses, such as cats, dogs, and mice. Instead of writing redundant code\n",
    "# for each subclass, Python allows to pass down class attributes to the subclasses. In other words, a subclass inherits\n",
    "# the attributes from the superclass.\n",
    "\n",
    "class Animal:\n",
    "    \n",
    "    legs = 4\n",
    "    \n",
    "    def __init__(self, name, owner_first, owner_last, breed, color):\n",
    "        self.name = name\n",
    "        self.owner_first = owner_first\n",
    "        self.owner_last = owner_last\n",
    "        self.breed = breed \n",
    "        self.color = color\n",
    "        \n",
    "    def ownername(self):\n",
    "        return self.owner_first + ' ' + self.owner_last\n",
    "    \n",
    "class Dog(Animal):\n",
    "    pass              # even if the pass function is used here, the core data is inherited from the Animal class\n",
    "\n",
    "\n",
    "class Cat(Animal):\n",
    "    pass              # even if the pass function is used here, the core data is inherited from the Animal class\n",
    "\n",
    "\n",
    "class Mouse(Animal):\n",
    "    pass              # even if the pass function is used here, the core data is inherited from the Animal class\n",
    "\n",
    "dog_1 = Dog('Scooby','Shaggy','Rogers','great dane','brown')\n",
    "dog_2 = Dog('Lassie','Corey','Stuart','rough collie','tricolor')\n",
    "\n",
    "# Here, the new class Dog was used to declare the instances. In the background, Python goes up the inheritance to \n",
    "# the Animal class and finds there the corresponding attributes. This is called the \"Method Resolution Order\"\n",
    "\n",
    "print(dog_1.legs)"
   ]
  },
  {
   "cell_type": "code",
   "execution_count": null,
   "metadata": {
    "collapsed": true
   },
   "outputs": [],
   "source": [
    "# The next step is to add new attributes to the new subclass. Subclasses may differ in some way from the superclass.\n",
    "# For instance, the subclass Cat takes the additional attribute \"lifes_left\"\n",
    "\n",
    "class Animal:\n",
    "    \n",
    "    legs = 4\n",
    "    favorite_food = 'meat'\n",
    "    \n",
    "    def __init__(self, name, owner_first, owner_last, breed, color):\n",
    "        self.name = name\n",
    "        self.owner_first = owner_first\n",
    "        self.owner_last = owner_last\n",
    "        self.breed = breed \n",
    "        self.color = color\n",
    "        \n",
    "    def ownername(self):\n",
    "        return self.owner_first + ' ' + self.owner_last\n",
    "    \n",
    "class Dog(Animal):\n",
    "    pass              # even if the pass function is used here, the core data is inherited from the Animal class\n",
    "\n",
    "\n",
    "class Cat(Animal):\n",
    "    def __init__(self, name, owner_first, owner_last, breed, color, lives_left):\n",
    "        super().__init__(name, owner_first, owner_last, breed, color) # or alternatively access through the superclass name\n",
    "        #Animal.__init__(self, name, owner_first, owner_last, breed, color) # Reminder: the self attribute is necessary here\n",
    "        self.lives_left = lives_left\n",
    "\n",
    "cat_1 = Cat('Testcat','Test','Owner','Persian','white','7')\n",
    "#print(cat_1.legs)\n",
    "#print(cat_1.lives_left)\n",
    "#print(cat_1.ownername())\n",
    "\n",
    "# Of course, if there would be specific information in the Class, say Dog, then there would be no inheritance from \n",
    "# the Cat class to the Dog class. \n",
    "\n",
    "# Class variables can be overwriten.\n",
    "cat_1.favorite_food = 'water melon'\n",
    "print(cat_1.favorite_food)\n",
    "print(cat_1.__dict__)"
   ]
  },
  {
   "cell_type": "markdown",
   "metadata": {},
   "source": [
    "#### Good to know:\n",
    "\n",
    "Class attributes can be public, protected and private.\n",
    "\n",
    "1) Public attributes are variables without an introducing underscore. They are accessible from within a class and from outside of the class. These attributes are readable and rewritable. For instance,\n",
    "\n",
    "name = 'name'\n",
    "\n",
    "\n",
    "2) Protected attributes have one introducing underscore. Basically, they behave the same as the public attributes. The coder (or rather the author) states with the underscore, that nothing _should_ be done with this attribute. For instance,\n",
    "\n",
    "_protected = 'name'\n",
    "\n",
    "\n",
    "3) Private attributes have two introducing underscores. They are used when they totally must be unaccessable from outside. They cannot be seen or used. For instance,\n",
    "\n",
    "__name = 'private'\n",
    "\n",
    "Nevertheless, then _can_ be accessed from outside via CLASSNAME__name."
   ]
  },
  {
   "cell_type": "markdown",
   "metadata": {},
   "source": [
    "### Magic Methods\n",
    "\n",
    "So far, only one magic method was introduced: $__init__$\n",
    "\n",
    "Yet, there exist a large number of such magic methods! They can be used to overload a method and thus improve its functionality for some particular purpose.\n",
    "\n",
    "The following example is taken from the Sololearn App: the overloaded method is 'greater than' $__gt__$\n"
   ]
  },
  {
   "cell_type": "code",
   "execution_count": null,
   "metadata": {
    "collapsed": true
   },
   "outputs": [],
   "source": [
    "class SpecialString:\n",
    "    def __init__(self, cont):\n",
    "        self.cont = cont\n",
    "        \n",
    "    def __gt__(self,other):\n",
    "        for index in range(len(other.cont)+1):\n",
    "            result = other.cont[:index] + \">\" + self.cont\n",
    "            result += \">\" + other.cont[index:]\n",
    "            print(result)\n",
    "            \n",
    "distributional = SpecialString('distributional')\n",
    "semantics = SpecialString('semantics')\n",
    "\n",
    "distributional > semantics"
   ]
  },
  {
   "cell_type": "code",
   "execution_count": null,
   "metadata": {
    "collapsed": true
   },
   "outputs": [],
   "source": [
    "# Homework\n",
    "# Write some special addition method for vectors with two elements and add the two vectors v = (4,5) and w = (9,2)\n",
    "\n",
    "# possible Start:\n",
    "\n",
    "class Vector2D:\n",
    "    def __init__(self, x, y):\n",
    "        self.x = x\n",
    "        self.y = y\n",
    "        \n",
    "# Help:\n",
    "# 1. You might need to use the magic method __add__\n",
    "# 2. Refering to some instance of the class are done with 'self', as explained in the lectures. \n",
    "#    If you have another distinct instance of the same class, you refere to it with the 'other' attribute.\n",
    "    def __add__(self,other):\n",
    "        return Vector2D(self.x+other.x, self.y+other.y)\n",
    "        #return self.x+other.x, self.y+other.y # this option is for the vector itself\n",
    "        \n",
    "v = Vector2D(4,5)\n",
    "w = Vector2D(9,2)\n",
    "\n",
    "vector = v + w\n",
    "print(vector.x)\n",
    "print(vector.y)"
   ]
  }
 ],
 "metadata": {
  "kernelspec": {
   "display_name": "Python 3",
   "language": "python",
   "name": "python3"
  },
  "language_info": {
   "codemirror_mode": {
    "name": "ipython",
    "version": 3
   },
   "file_extension": ".py",
   "mimetype": "text/x-python",
   "name": "python",
   "nbconvert_exporter": "python",
   "pygments_lexer": "ipython3",
   "version": "3.6.3"
  }
 },
 "nbformat": 4,
 "nbformat_minor": 2
}
