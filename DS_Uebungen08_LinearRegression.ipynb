{
 "cells": [
  {
   "cell_type": "markdown",
   "metadata": {},
   "source": [
    "# Linear Regression\n",
    "\n",
    "Linear Regression is an algorithm to solve regression problems. The output is a function that describes (predicts) of regressing, correlating numerical features. After training the regression model, new data should be predicted or adjusted correctly according to the prediction function.\n",
    "\n",
    "### Procedure\n",
    "\n",
    "1. Preprocess (and visualize) your data, assign variables for further tasks\n",
    "2. Declare your hypothesis (function); also prediction function\n",
    "3. Calculate the cost (loss) function of your hypothesis\n",
    "4. Minimalize the cost (loss) function with gradient descent or normal equation\n",
    "5. Adjust your hypothesis\n",
    "6. Plot the adjusted hypothesis and the conversion of the costs"
   ]
  },
  {
   "cell_type": "markdown",
   "metadata": {},
   "source": [
    "### import modules"
   ]
  },
  {
   "cell_type": "code",
   "execution_count": 1,
   "metadata": {
    "collapsed": true,
    "scrolled": true
   },
   "outputs": [],
   "source": [
    "import numpy as np\n",
    "import matplotlib.pyplot as plt\n",
    "import pylab\n",
    "import pandas as pd"
   ]
  },
  {
   "cell_type": "markdown",
   "metadata": {},
   "source": [
    "## Visualization and preprocessing"
   ]
  },
  {
   "cell_type": "code",
   "execution_count": 20,
   "metadata": {},
   "outputs": [
    {
     "name": "stdout",
     "output_type": "stream",
     "text": [
      "    population    profit\n",
      "0       6.1101  17.59200\n",
      "1       5.5277   9.13020\n",
      "2       8.5186  13.66200\n",
      "3       7.0032  11.85400\n",
      "4       5.8598   6.82330\n",
      "5       8.3829  11.88600\n",
      "6       7.4764   4.34830\n",
      "7       8.5781  12.00000\n",
      "8       6.4862   6.59870\n",
      "9       5.0546   3.81660\n",
      "10      5.7107   3.25220\n",
      "11     14.1640  15.50500\n",
      "12      5.7340   3.15510\n",
      "13      8.4084   7.22580\n",
      "14      5.6407   0.71618\n",
      "15      5.3794   3.51290\n",
      "16      6.3654   5.30480\n",
      "17      5.1301   0.56077\n",
      "18      6.4296   3.65180\n",
      "19      7.0708   5.38930\n",
      "20      6.1891   3.13860\n",
      "21     20.2700  21.76700\n",
      "22      5.4901   4.26300\n",
      "23      6.3261   5.18750\n",
      "24      5.5649   3.08250\n",
      "25     18.9450  22.63800\n",
      "26     12.8280  13.50100\n",
      "27     10.9570   7.04670\n",
      "28     13.1760  14.69200\n",
      "29     22.2030  24.14700\n",
      "..         ...       ...\n",
      "67     10.2360   7.77540\n",
      "68      5.4994   1.01730\n",
      "69     20.3410  20.99200\n",
      "70     10.1360   6.67990\n",
      "71      7.3345   4.02590\n",
      "72      6.0062   1.27840\n",
      "73      7.2259   3.34110\n",
      "74      5.0269  -2.68070\n",
      "75      6.5479   0.29678\n",
      "76      7.5386   3.88450\n",
      "77      5.0365   5.70140\n",
      "78     10.2740   6.75260\n",
      "79      5.1077   2.05760\n",
      "80      5.7292   0.47953\n",
      "81      5.1884   0.20421\n",
      "82      6.3557   0.67861\n",
      "83      9.7687   7.54350\n",
      "84      6.5159   5.34360\n",
      "85      8.5172   4.24150\n",
      "86      9.1802   6.79810\n",
      "87      6.0020   0.92695\n",
      "88      5.5204   0.15200\n",
      "89      5.0594   2.82140\n",
      "90      5.7077   1.84510\n",
      "91      7.6366   4.29590\n",
      "92      5.8707   7.20290\n",
      "93      5.3054   1.98690\n",
      "94      8.2934   0.14454\n",
      "95     13.3940   9.05510\n",
      "96      5.4369   0.61705\n",
      "\n",
      "[97 rows x 2 columns]\n"
     ]
    }
   ],
   "source": [
    "food_data = pd.read_csv('data/food.txt', names=['population', 'profit'])\n",
    "print(food_data)\n",
    "food_data = np.array(food_data)"
   ]
  },
  {
   "cell_type": "code",
   "execution_count": 21,
   "metadata": {},
   "outputs": [
    {
     "data": {
      "image/png": "[encoded data removed]",
      "text/plain": [
       "<matplotlib.figure.Figure at 0x9e7ed30>"
      ]
     },
     "metadata": {},
     "output_type": "display_data"
    }
   ],
   "source": [
    "x = food_data[:,0]\n",
    "y = food_data[:,1]\n",
    "\n",
    "plt.scatter(x,y, c='blue')\n",
    "\n",
    "plt.xlabel('Population in 10000s')\n",
    "plt.ylabel('Profit in 10000s')\n",
    "plt.show()"
   ]
  },
  {
   "cell_type": "code",
   "execution_count": 22,
   "metadata": {},
   "outputs": [
    {
     "name": "stdout",
     "output_type": "stream",
     "text": [
      "[ 1.  1.]\n"
     ]
    }
   ],
   "source": [
    "# Initial weights are arbitrary\n",
    "w1 = 1.0\n",
    "w2 = 1.0\n",
    "\n",
    "w =  np.array([w1, w2]).T\n",
    "print(w)"
   ]
  },
  {
   "cell_type": "code",
   "execution_count": 23,
   "metadata": {
    "collapsed": true
   },
   "outputs": [],
   "source": [
    "ones = np.ones(x.size) # Matrix of the (vector) size x \n",
    "X = np.vstack((x, ones)).T # second column is filled with ones as a bias\n",
    "m = X[:,0].size # m is the total number of elements in x"
   ]
  },
  {
   "cell_type": "markdown",
   "metadata": {},
   "source": [
    "## Hypothesis\n",
    "The hypothesis is the function that describes your (regressing) data points as a linear function. It is an approximation, that is prediction, to this data. The formula according to the slides:\n",
    "\n",
    "$f(x) = w_1x + w_2$\n",
    "\n",
    "\n",
    "Long term task: different arbitrary weights (w1 and w2) result in different predictions (and change the values of the vector x). In the end of this procedure, we want the weights to be as optimal as possible to describe best the given data points."
   ]
  },
  {
   "cell_type": "code",
   "execution_count": 25,
   "metadata": {
    "scrolled": true
   },
   "outputs": [
    {
     "data": {
      "text/plain": [
       "array([  7.1101,   6.5277,   9.5186,   8.0032,   6.8598,   9.3829,\n",
       "         8.4764,   9.5781,   7.4862,   6.0546,   6.7107,  15.164 ,\n",
       "         6.734 ,   9.4084,   6.6407,   6.3794,   7.3654,   6.1301,\n",
       "         7.4296,   8.0708,   7.1891,  21.27  ,   6.4901,   7.3261,\n",
       "         6.5649,  19.945 ,  13.828 ,  11.957 ,  14.176 ,  23.203 ,\n",
       "         6.2524,   7.5894,  10.2482,   6.8918,   9.2111,   8.9334,\n",
       "         9.0959,   6.6063,  13.836 ,   7.3534,   6.4069,   7.8825,\n",
       "        12.708 ,   6.7737,   8.8247,   8.0931,   6.0702,   6.8014,\n",
       "        12.7   ,   6.5416,   8.5402,   6.3077,   8.4239,   8.6031,\n",
       "         7.3328,   7.3589,   7.2742,   6.6397,  10.3102,  10.4536,\n",
       "         9.8254,   6.1793,  22.279 ,  15.908 ,  19.959 ,   8.2182,\n",
       "         9.2951,  11.236 ,   6.4994,  21.341 ,  11.136 ,   8.3345,\n",
       "         7.0062,   8.2259,   6.0269,   7.5479,   8.5386,   6.0365,\n",
       "        11.274 ,   6.1077,   6.7292,   6.1884,   7.3557,  10.7687,\n",
       "         7.5159,   9.5172,  10.1802,   7.002 ,   6.5204,   6.0594,\n",
       "         6.7077,   8.6366,   6.8707,   6.3054,   9.2934,  14.394 ,   6.4369])"
      ]
     },
     "execution_count": 25,
     "metadata": {},
     "output_type": "execute_result"
    }
   ],
   "source": [
    "def hypothesis(weight_1, weight_2, x):\n",
    "    return weight_1*x + weight_2\n",
    "\n",
    "hypothesis(w1, w2, x)"
   ]
  },
  {
   "cell_type": "code",
   "execution_count": 26,
   "metadata": {
    "collapsed": true
   },
   "outputs": [],
   "source": [
    "old_hypothesis = hypothesis(w1, w2, x)"
   ]
  },
  {
   "cell_type": "code",
   "execution_count": 27,
   "metadata": {
    "scrolled": true
   },
   "outputs": [
    {
     "data": {
      "image/png": "[encoded data removed]",
      "text/plain": [
       "<matplotlib.figure.Figure at 0x9e91c50>"
      ]
     },
     "metadata": {},
     "output_type": "display_data"
    }
   ],
   "source": [
    "x = food_data[:,0]\n",
    "y = food_data[:,1]\n",
    "\n",
    "plt.scatter(x,y, c='blue')\n",
    "\n",
    "plt.plot(x, hypothesis(w1, w2, x), c='red')\n",
    "\n",
    "plt.xlabel('Population in 10000s')\n",
    "plt.ylabel('Profit in 10000s')\n",
    "plt.show()"
   ]
  },
  {
   "cell_type": "markdown",
   "metadata": {},
   "source": [
    "## Cost function: Mean Squared Error (MSE)\n",
    "\n",
    "The hypothesis function with w_1 = 1 and w_2 = 1 is not perfect, since it doesn't fit the data well. The cost function returns a number which basically reveals, how far away the hypothesis function lies from the ideal position. The closer to zero the cost,the better the prediction.\n",
    "\n",
    "$MSE(w_1, w_2) = \\frac{1}{2m} \\Sigma_{i=1}^m (\\hat{y}_i - y_i)^2$"
   ]
  },
  {
   "cell_type": "code",
   "execution_count": 28,
   "metadata": {},
   "outputs": [
    {
     "name": "stdout",
     "output_type": "stream",
     "text": [
      "10.2665204914\n",
      "10.2665204914\n"
     ]
    }
   ],
   "source": [
    "def MSE_cost(weight_1, weight_2, x, y):\n",
    "    # translate the formula into python code here\n",
    "    cost = 0\n",
    "    for i, vec_element in enumerate(x):\n",
    "        cost += (hypothesis(weight_1, weight_2, vec_element) - y[i])**2\n",
    "    return cost/(2*m)\n",
    "\n",
    "# alternatively MSE cost function as vector representation\n",
    "def MSE_cost_2(X, y, w):\n",
    "    return (sum((X.dot(w) - y)**2))/(2*m)\n",
    "\n",
    "# if you have done it right, the values are the same\n",
    "print(MSE_cost(w1, w2, x, y))\n",
    "print(MSE_cost_2(X, y, w))"
   ]
  },
  {
   "cell_type": "markdown",
   "metadata": {},
   "source": [
    "# Plotting the Cost Function"
   ]
  },
  {
   "cell_type": "code",
   "execution_count": 29,
   "metadata": {
    "scrolled": true
   },
   "outputs": [
    {
     "data": {
      "image/png": "[encoded data removed]",
      "text/plain": [
       "<matplotlib.figure.Figure at 0xbd6a7b8>"
      ]
     },
     "metadata": {},
     "output_type": "display_data"
    }
   ],
   "source": [
    "from mpl_toolkits.mplot3d import Axes3D\n",
    "import matplotlib.pyplot as plt\n",
    "from matplotlib import cm\n",
    "from matplotlib.ticker import LinearLocator, FormatStrFormatter\n",
    "import numpy as np\n",
    "\n",
    "\n",
    "fig = plt.figure()\n",
    "ax = fig.gca(projection='3d')\n",
    "ax.set_xlabel('w1')\n",
    "ax.set_ylabel('w2')\n",
    "ax.set_zlabel('cost')\n",
    "\n",
    "# Make data.\n",
    "weight = np.linspace(-1, 4, 100)\n",
    "intercept = np.linspace(-10, 10, 100)\n",
    "xx, yy = np.meshgrid(weight, intercept)\n",
    "\n",
    "cost_values = np.zeros((100, 100))\n",
    "\n",
    "for i, we in enumerate(weight):\n",
    "    for j, b in enumerate(intercept):\n",
    "        weights = np.array([we, b])\n",
    "        cost_values[i,j] = MSE_cost(we,b,x,y)\n",
    "        #cost_values[i,j] = MSE_cost_2(X, y, weights)\n",
    "        \n",
    "# Plot the surface.\n",
    "surf = ax.plot_surface(xx, yy, cost_values, cmap=cm.coolwarm,\n",
    "                       linewidth=0, antialiased=False)\n",
    "\n",
    "plt.show()"
   ]
  },
  {
   "cell_type": "markdown",
   "metadata": {},
   "source": [
    "### Minimize costs with Gradient Descent\n",
    "\n",
    "Gradient descent is one possibility to minimalize the cost function and to return better fitting predictions.\n",
    "\n",
    "The partial derivatives of $w_1$ and $w_2$:\n",
    "\n",
    "\n",
    "$\\frac{\\partial}{\\partial w_1} MSE(w_1, w_2) = \\frac{1}{m}\\Sigma_{i=1}^m (\\hat{y}_i - y_i)x_i$\n",
    "\n",
    "\n",
    "$\\frac{\\partial}{\\partial w_2} MSE(w_1, w_2) = \\frac{1}{m}\\Sigma_{i=1}^m (\\hat{y}_i - y_i)$\n",
    "\n",
    "\n",
    "The gradient $\\nabla_{\\vec{w}} MSE(w_1, w_2)$ is a vector of our partial derivatives: $\\nabla_{\\vec{w}} MSE(w_1, w_2) = \\begin{bmatrix}\n",
    "\\frac{\\partial}{\\partial w_1} MSE(w_1, w_2) \\\\\n",
    "\\frac{\\partial}{\\partial w_2} MSE(w_1, w_2) \\\\\n",
    "\\end{bmatrix}$. \n",
    "\n",
    "Repeat updating the weights with the following formula:\n",
    "\n",
    "$w_1 = w_1 - \\alpha \\frac{1}{m}\\Sigma_{i=1}^m (\\hat{y}_i - y_i)x_i$\n",
    "\n",
    "$w_2 = w_2 - \\alpha \\frac{1}{m}\\Sigma_{i=1}^m (\\hat{y}_i - y_i)$\n"
   ]
  },
  {
   "cell_type": "code",
   "execution_count": null,
   "metadata": {
    "collapsed": true
   },
   "outputs": [],
   "source": [
    "# Vectorized form of gradient descent\n",
    "\n",
    "def gradient_descent(X, y, w, alpha, num_iters):\n",
    "    alpha = alpha\n",
    "    num_iters = num_iters\n",
    "    cost_history = np.zeros((num_iters, 1))\n",
    "    \n",
    "    for i in range(num_iters):\n",
    "        w = w - alpha * (1/m) * (X.T.dot((X.dot(w) - y)))\n",
    "        cost_history[i] = cost_2(X, y, w)\n",
    "    \n",
    "    return w, cost_history\n",
    "\n",
    "w_test, b_test = 1,1\n",
    "\n",
    "test_w = np.array([w_test, b_test])\n",
    "w_final, cost_history = gradient_descent(X, y, test_w, 0.02, 2000)\n",
    "print(w_final)"
   ]
  },
  {
   "cell_type": "code",
   "execution_count": 30,
   "metadata": {
    "scrolled": true
   },
   "outputs": [
    {
     "name": "stdout",
     "output_type": "stream",
     "text": [
      "[ 1.19267712 -3.89223201]\n"
     ]
    }
   ],
   "source": [
    "#w =  np.array([1.0,1.0]).T\n",
    "iterations = 2000\n",
    "\n",
    "def gradient_descent_2(x, y, w, alpha, num_iters):\n",
    "    a = alpha\n",
    "    iterations = num_iters\n",
    "    cost_history = np.zeros((iterations, 1))\n",
    "    d = 0\n",
    "    d2 = 0\n",
    "    \n",
    "    for i in range(iterations):\n",
    "        for j, exmp in enumerate(x):\n",
    "            d += (hypothesis(w[0], w[1], exmp) - y[j])*exmp\n",
    "            d2 += (hypothesis(w[0], w[1], exmp) - y[j])\n",
    "        w[0] = w[0] - (a * ((1/m) * d))\n",
    "        w[1] = w[1] - (a * ((1/m) * d2))\n",
    "        cost_history[i] = MSE_cost(w[0], w[1], x, y)\n",
    "        d = 0\n",
    "        d2 = 0\n",
    "        \n",
    "    return w, cost_history\n",
    "\n",
    "w, cost_history = gradient_descent_2(x, y, w, 0.02, iterations)\n",
    "\n",
    "print(w)"
   ]
  },
  {
   "cell_type": "markdown",
   "metadata": {},
   "source": [
    "### Minimize costs with Normal Equation\n",
    "\n",
    "Alternatively to gradient descent, the costs and weights can be calculated with normal equation. Normal equation works best for a 'reasonable' amound of features _n_.\n",
    "\n",
    "$\\vec{w} = (X^TX)^{-1}X^Ty$"
   ]
  },
  {
   "cell_type": "code",
   "execution_count": 31,
   "metadata": {},
   "outputs": [
    {
     "data": {
      "text/plain": [
       "array([ 1.19303364, -3.89578088])"
      ]
     },
     "execution_count": 31,
     "metadata": {},
     "output_type": "execute_result"
    }
   ],
   "source": [
    "def norm_eq(X, y):\n",
    "    w = np.linalg.inv(X.T.dot(X)).dot(X.T).dot(y)\n",
    "    return w\n",
    "\n",
    "norm_eq(X, y)"
   ]
  },
  {
   "cell_type": "markdown",
   "metadata": {},
   "source": [
    "### Plot the new hypothesis\n",
    "\n",
    "Performing gradient descent or normal equation returns new weights, which can be used to calculate the new hypothesis (prediction) function."
   ]
  },
  {
   "cell_type": "code",
   "execution_count": 32,
   "metadata": {},
   "outputs": [
    {
     "data": {
      "image/png": "[encoded data removed]",
      "text/plain": [
       "<matplotlib.figure.Figure at 0x92ef860>"
      ]
     },
     "metadata": {},
     "output_type": "display_data"
    }
   ],
   "source": [
    "w1, w2 = w\n",
    "\n",
    "plt.scatter(x,y, c='blue')\n",
    "\n",
    "plt.plot(x, hypothesis(w1, w2, x), c='red')\n",
    "plt.plot(x, old_hypothesis, c='green')\n",
    "\n",
    "plt.xlabel('Population in 10000s')\n",
    "plt.ylabel('Profit in 10000s')\n",
    "plt.show()"
   ]
  },
  {
   "cell_type": "markdown",
   "metadata": {},
   "source": [
    "### Plotting the costs\n",
    "\n",
    "The new costs after each iteration can be plotted and checked for conversion.\n",
    "\n",
    "You may change the iterations and alphas for different conversions!\n"
   ]
  },
  {
   "cell_type": "code",
   "execution_count": 36,
   "metadata": {
    "scrolled": true
   },
   "outputs": [
    {
     "data": {
      "image/png": "[encoded data removed]",
      "text/plain": [
       "<matplotlib.figure.Figure at 0x9ced588>"
      ]
     },
     "metadata": {},
     "output_type": "display_data"
    }
   ],
   "source": [
    "w =  np.array([1.0,1.0]).T\n",
    "iterations = 2000\n",
    "alpha = 0.02\n",
    "w, cost_history = gradient_descent_2(x, y, w, alpha, iterations)\n",
    "\n",
    "iterat = np.arange(iterations)\n",
    "\n",
    "plt.plot(iterat, cost_history)\n",
    "plt.show()"
   ]
  }
 ],
 "metadata": {
  "anaconda-cloud": {},
  "kernelspec": {
   "display_name": "Python 3",
   "language": "python",
   "name": "python3"
  },
  "language_info": {
   "codemirror_mode": {
    "name": "ipython",
    "version": 3
   },
   "file_extension": ".py",
   "mimetype": "text/x-python",
   "name": "python",
   "nbconvert_exporter": "python",
   "pygments_lexer": "ipython3",
   "version": "3.6.3"
  }
 },
 "nbformat": 4,
 "nbformat_minor": 1
}
