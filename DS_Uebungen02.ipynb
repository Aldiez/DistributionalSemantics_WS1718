{
 "cells": [
  {
   "cell_type": "markdown",
   "metadata": {},
   "source": [
    "# Introduction to Python (continuation)"
   ]
  },
  {
   "cell_type": "markdown",
   "metadata": {},
   "source": [
    "## Variables"
   ]
  },
  {
   "cell_type": "code",
   "execution_count": null,
   "metadata": {
    "collapsed": true
   },
   "outputs": [],
   "source": [
    "# multiple assignment\n",
    "a = b = c = 1\n",
    "a,b,c = 1, \"string\", {}"
   ]
  },
  {
   "cell_type": "code",
   "execution_count": null,
   "metadata": {
    "collapsed": true
   },
   "outputs": [],
   "source": [
    "# delete variables\n",
    "del a\n",
    "del b,c"
   ]
  },
  {
   "cell_type": "markdown",
   "metadata": {},
   "source": [
    "### Naming conventions\n",
    "1. Variables must start with a letter or an underscore (private variables; interesting for OOP)\n",
    "2. The remainder of the variable may consist of letters, numbers and underscores\n",
    "3. Names are case sensitive\n",
    "4. Follow the readability conventions\n",
    "5. Of course, pre-defined names, such as print or len, cannot be used"
   ]
  },
  {
   "cell_type": "code",
   "execution_count": null,
   "metadata": {
    "collapsed": true
   },
   "outputs": [],
   "source": [
    "# the good\n",
    "_var = 1\n",
    "var_ = 1\n",
    "\n",
    "password1 = \"password\"\n",
    "n00b = 1\n",
    "\n",
    "another_var = true\n",
    "Another_var = false\n",
    "\n",
    "# the bad\n",
    "1bc = \"var\"\n",
    "^^v = \"var\"\n",
    "\n",
    "# the ugly\n",
    "# readability\n",
    "person_id\n",
    "personid\n",
    "personId\n",
    "\n",
    "# descriptive names\n",
    "sv = []\n",
    "similarity_vec = []\n",
    "# avoid lowercase l and uppercase O"
   ]
  },
  {
   "cell_type": "markdown",
   "metadata": {},
   "source": [
    "## For-Loops\n",
    "\n",
    "\n",
    "<img src=\"img/Flowchart-of-for-loop.gif\" align=\"left\" title=\"Source: http://www.tutorialology.com/wp-content/uploads/2016/11/Flowchart-of-for-loop.gif\"/>"
   ]
  },
  {
   "cell_type": "code",
   "execution_count": null,
   "metadata": {
    "collapsed": true,
    "scrolled": false
   },
   "outputs": [],
   "source": [
    "for i in [0,1,2,3,4]:\n",
    "    print(i)"
   ]
  },
  {
   "cell_type": "code",
   "execution_count": null,
   "metadata": {
    "collapsed": true,
    "scrolled": false
   },
   "outputs": [],
   "source": [
    "for i in range(5): # Python2.7 equivalent is xrange()\n",
    "    print(i)"
   ]
  },
  {
   "cell_type": "code",
   "execution_count": null,
   "metadata": {
    "collapsed": true,
    "scrolled": false
   },
   "outputs": [],
   "source": [
    "for lang in ['german','english','french','japanese']:\n",
    "    print(lang)"
   ]
  },
  {
   "cell_type": "code",
   "execution_count": null,
   "metadata": {
    "collapsed": true,
    "scrolled": false
   },
   "outputs": [],
   "source": [
    "# Was macht dieser Code?\n",
    "\n",
    "for lang_index, lang in enumerate(['german','english','french','japanese']):\n",
    "    print(str(lang_index) + \": \" + lang)\n",
    "    \n",
    "# enumerate() can take attributes, such as start=1"
   ]
  },
  {
   "cell_type": "markdown",
   "metadata": {},
   "source": [
    "## While-Loops\n",
    "\n",
    "<img src=\"img/Flowchart-of-while-loop.gif\" align=\"left\" title=\"Source: http://www.tutorialology.com/python/python-while-loop/\"/>"
   ]
  },
  {
   "cell_type": "code",
   "execution_count": null,
   "metadata": {
    "collapsed": true
   },
   "outputs": [],
   "source": [
    "count = 0\n",
    "\n",
    "while count < 10:\n",
    "    print(count)\n",
    "    count += count + 2\n",
    "\n",
    "# Be careful with infinite loops!"
   ]
  },
  {
   "cell_type": "markdown",
   "metadata": {},
   "source": [
    "## if-Conditions"
   ]
  },
  {
   "cell_type": "markdown",
   "metadata": {},
   "source": [
    "### Reminder: Comparison Operations return boolean values\n",
    "\n",
    "    1.  Equal:            ==\n",
    "    2.  Not Equal:        !=\n",
    "    3.  Greater Than:     >\n",
    "    4.  Less Than:        <\n",
    "    5.  Greater or Equal: >=\n",
    "    6.  Less or Equal:    <=\n",
    "    \n",
    "### for the if-conditions you can use additionally:\n",
    "\n",
    "    7.  Object identity:   is\n",
    "    8.  and\n",
    "    9.  or\n",
    "    10. not"
   ]
  },
  {
   "cell_type": "code",
   "execution_count": null,
   "metadata": {
    "collapsed": true
   },
   "outputs": [],
   "source": [
    "# The basic condition: if the condition is TRUE then the subprogramm will be executed\n",
    "# Since you compare two entities, you need to declare your variables before using them \n",
    "# in the if-condition\n",
    "\n",
    "amount_money = int(input())\n",
    "\n",
    "if amount_money > 100:\n",
    "    print(\"That's a start!\")\n",
    "#elif 0 <= amount_money <= 100:\n",
    "#    print(\"You could afford yourself an ice!\")\n",
    "#else:\n",
    "#    print(\"Stop gamble, make some money!\")"
   ]
  },
  {
   "cell_type": "code",
   "execution_count": null,
   "metadata": {
    "collapsed": true
   },
   "outputs": [],
   "source": [
    "# Try out 0, 1, None, True, False, lists, tuples, etc.\n",
    "condition = \"anything\"\n",
    "\n",
    "if condition:\n",
    "    print(\"Evaluated to True\")\n",
    "else:\n",
    "    print(\"Evaluated to False\")"
   ]
  },
  {
   "cell_type": "code",
   "execution_count": null,
   "metadata": {
    "collapsed": true
   },
   "outputs": [],
   "source": [
    "# You are given a list of Android version names. \n",
    "# Check if there is an Android name missing, and if so, add it to the list.\n",
    "\n",
    "android_names = [\"Base\", \"Donut\", \"Froyo\", \"Ice Cream Sandwich\", \"Nougat\", \"Oreo\"]\n",
    "\n",
    "\n",
    "\n",
    "\n",
    "\n",
    "\n",
    "\n",
    "\n",
    "\n",
    "\n",
    "\n",
    "\n",
    "\n",
    "\n",
    "\n",
    "\n",
    "\n",
    "\n",
    "\n",
    "\n",
    "\n",
    "\n",
    "\n",
    "\n",
    "\n",
    "\n"
   ]
  },
  {
   "cell_type": "code",
   "execution_count": null,
   "metadata": {
    "collapsed": true
   },
   "outputs": [],
   "source": [
    "android_names = [\"Base\", \"Donut\", \"Froyo\", \"Ice Cream Sandwich\", \"Nougat\", \"Oreo\"]\n",
    "\n",
    "add_names = [\"Base\", \"Cupcake\", \"Donut\", \"Eclair\", \"Froyo\", \"Gingerbread\", \"Honeycomb\", \n",
    "             \"Ice Cream Sandwich\", \"Jelly Bean\", \"KitKat\", \"Lollipop\", \"Marshmallow\", \n",
    "             \"Nougat\", \"Oreo\"]\n",
    "\n",
    "print(android_names)\n",
    "\n",
    "for names in add_names:\n",
    "    if names not in android_names:\n",
    "        android_names.append(names)\n",
    "        \n",
    "print(android_names)"
   ]
  },
  {
   "cell_type": "code",
   "execution_count": null,
   "metadata": {
    "collapsed": true
   },
   "outputs": [],
   "source": [
    "# Take control of your loop with break, continue\n",
    "\n",
    "lang = ['german','english','french','japanese']\n",
    "\n",
    "for token in lang:\n",
    "    if token == \"french\":\n",
    "        print(\"Au secours, je suis un perroquet!\")\n",
    "    print(token)"
   ]
  },
  {
   "cell_type": "markdown",
   "metadata": {},
   "source": [
    "## List comprehension"
   ]
  },
  {
   "cell_type": "code",
   "execution_count": null,
   "metadata": {
    "collapsed": true
   },
   "outputs": [],
   "source": [
    "\"\"\"\n",
    "Challenge!\n",
    "\n",
    "Schreibe einen Code, der die Werte der Liste some_list in einer neuen Liste kubische Werte zurück gibt.\n",
    "\"\"\"\n",
    "some_list = [0,1,2,3,4,5,6,7,8,9]\n",
    "\n",
    "\n",
    "\n",
    "\n",
    "\n",
    "\n",
    "\n",
    "\n",
    "\n",
    "\n",
    "\n",
    "\n",
    "\n",
    "\n",
    "\n",
    "\n",
    "\n",
    "\n",
    "\n",
    "\n",
    "\n",
    "\n",
    "\n",
    "\n"
   ]
  },
  {
   "cell_type": "code",
   "execution_count": null,
   "metadata": {
    "collapsed": true,
    "scrolled": true
   },
   "outputs": [],
   "source": [
    "some_list = [0,1,2,3,4,5,6,7,8,9]\n",
    "\n",
    "cube_list = []\n",
    "for num in some_list:\n",
    "    cube_list.append(num**3)\n",
    "    \n",
    "print(some_list)\n",
    "print(cube_list)"
   ]
  },
  {
   "cell_type": "code",
   "execution_count": null,
   "metadata": {
    "collapsed": true,
    "scrolled": false
   },
   "outputs": [],
   "source": [
    "cub = [c**3 for c in range(10)]# if c**3%3 != 0 ]\n",
    "print(cub)"
   ]
  },
  {
   "cell_type": "code",
   "execution_count": null,
   "metadata": {
    "collapsed": true,
    "scrolled": false
   },
   "outputs": [],
   "source": [
    "#List comprehensions are extermely useful for writing concise code, and slightly more efficient as well!\n",
    "\n",
    "some_list = [1,2,3,4,5,6]\n",
    "other_list = [2*x**3 - 6*x**2 + x -4 for x in some_list] #extendable with if-statements\n",
    "print(other_list)"
   ]
  },
  {
   "cell_type": "markdown",
   "metadata": {},
   "source": [
    "## Dictionaries\n",
    "Dictionaries always come in curly brackets and with attribute: value pairs!"
   ]
  },
  {
   "cell_type": "code",
   "execution_count": null,
   "metadata": {
    "collapsed": true,
    "scrolled": false
   },
   "outputs": [],
   "source": [
    "d = {'cat': 'ruler of the world', 'dog': \"man's best friend\"}\n",
    "print(type(d))\n",
    "print(d)"
   ]
  },
  {
   "cell_type": "code",
   "execution_count": null,
   "metadata": {
    "collapsed": true,
    "scrolled": false
   },
   "outputs": [],
   "source": [
    "print(d['cat']) # same as\n",
    "print(d.get('cat'))"
   ]
  },
  {
   "cell_type": "code",
   "execution_count": null,
   "metadata": {
    "collapsed": true,
    "scrolled": false
   },
   "outputs": [],
   "source": [
    "print('cat' in d)"
   ]
  },
  {
   "cell_type": "code",
   "execution_count": null,
   "metadata": {
    "collapsed": true,
    "scrolled": false
   },
   "outputs": [],
   "source": [
    "print('mouse' in d)\n",
    "print(d.get('mouse'))  # if the key is not in the dictionary, a None will be returned\n",
    "print(d.get('mouse', 'not a key')) # the statement will be printed if the return is None"
   ]
  },
  {
   "cell_type": "code",
   "execution_count": null,
   "metadata": {
    "collapsed": true,
    "scrolled": false
   },
   "outputs": [],
   "source": [
    "d['mouse'] = 'cheese detector'\n",
    "print(d)"
   ]
  },
  {
   "cell_type": "code",
   "execution_count": null,
   "metadata": {
    "collapsed": true
   },
   "outputs": [],
   "source": [
    "# Dictionary can be manipulated with the update() method\n",
    "# Given the dictonarry below, update it with new entries!\n",
    "\n",
    "ds = {'name':'Alex', 'age': 18, 'phone':'0211-12345678'}\n",
    "\n",
    "# Solution 1: ds.update({'name':'Frank'})\n",
    "# Solution 2: d['mouse'] = d.get('mouse','bla')"
   ]
  },
  {
   "cell_type": "code",
   "execution_count": null,
   "metadata": {
    "collapsed": true
   },
   "outputs": [],
   "source": [
    "# Delete entries with del\n",
    "del ds['name']\n",
    "print(ds)"
   ]
  },
  {
   "cell_type": "code",
   "execution_count": null,
   "metadata": {
    "collapsed": true
   },
   "outputs": [],
   "source": [
    "# The pop() method also works on dictionaries!\n",
    "\n",
    "ds = {'name':'Alex', 'age': 18, 'phone':'0211-12345678'}\n",
    "\n",
    "age = ds.pop('age')\n",
    "print(ds)\n",
    "print(age)"
   ]
  },
  {
   "cell_type": "code",
   "execution_count": null,
   "metadata": {
    "collapsed": true
   },
   "outputs": [],
   "source": [
    "# Further methods on dictionary access\n",
    "print(ds.keys())\n",
    "print(ds.values())\n",
    "print(ds.items())"
   ]
  },
  {
   "cell_type": "code",
   "execution_count": null,
   "metadata": {
    "collapsed": true,
    "scrolled": false
   },
   "outputs": [],
   "source": [
    "# Looping through the attributes and values\n",
    "for element in d:\n",
    "    print(element + \" -> \" + d[element])\n",
    "\n",
    "    \n",
    "# Alternatively\n",
    "\n",
    "for key, values in ds.items():\n",
    "    print(key, values)"
   ]
  },
  {
   "cell_type": "code",
   "execution_count": null,
   "metadata": {
    "collapsed": true,
    "scrolled": false
   },
   "outputs": [],
   "source": [
    "# Dictionary comprehension\n",
    "com_list = {x: x/x**2 for x in range(1,10)}\n",
    "print(com_list)\n",
    "\n",
    "for a in com_list:\n",
    "    print(str(a) + ': ' + str(com_list[a]))"
   ]
  },
  {
   "cell_type": "code",
   "execution_count": null,
   "metadata": {
    "collapsed": true
   },
   "outputs": [],
   "source": [
    "# Create empty dictionarry\n",
    "dict_1 = {}\n",
    "dict_2 = dict()\n",
    "\n",
    "print(type(dict_1))\n",
    "print(type(dict_2))"
   ]
  },
  {
   "cell_type": "markdown",
   "metadata": {},
   "source": [
    "## Sets"
   ]
  },
  {
   "cell_type": "code",
   "execution_count": null,
   "metadata": {
    "collapsed": true,
    "scrolled": false
   },
   "outputs": [],
   "source": [
    "# Membership test with sets\n",
    "\n",
    "random_list = [1,4,2,3,5,5,3,2,4,5,2,3,2,1,4,3]\n",
    "random_list = set(random_list)\n",
    "print(random_list)"
   ]
  },
  {
   "cell_type": "code",
   "execution_count": null,
   "metadata": {
    "collapsed": true,
    "scrolled": false
   },
   "outputs": [],
   "source": [
    "cities = {'London','Berlin','Tokyo','Moscow'}\n",
    "print(type(cities))\n",
    "print(cities)"
   ]
  },
  {
   "cell_type": "code",
   "execution_count": null,
   "metadata": {
    "collapsed": true,
    "scrolled": false
   },
   "outputs": [],
   "source": [
    "# Check instances\n",
    "print('Berlin' in cities)\n",
    "print('Neuss' in cities)"
   ]
  },
  {
   "cell_type": "code",
   "execution_count": null,
   "metadata": {
    "collapsed": true,
    "scrolled": false
   },
   "outputs": [],
   "source": [
    "print(len(cities))"
   ]
  },
  {
   "cell_type": "code",
   "execution_count": null,
   "metadata": {
    "collapsed": true,
    "scrolled": false
   },
   "outputs": [],
   "source": [
    "cities.add('Cologne')\n",
    "print(cities)"
   ]
  },
  {
   "cell_type": "code",
   "execution_count": null,
   "metadata": {
    "collapsed": true,
    "scrolled": false
   },
   "outputs": [],
   "source": [
    "cities.remove('Berlin')\n",
    "print(cities)"
   ]
  },
  {
   "cell_type": "code",
   "execution_count": null,
   "metadata": {
    "collapsed": true
   },
   "outputs": [],
   "source": [
    "#Create empty sets\n",
    "\n",
    "set_1 = {} #This is not a set! This is only an empty dictionary\n",
    "set_2 = set()\n",
    "\n",
    "print(type(set_1))\n",
    "print(type(set_2))"
   ]
  },
  {
   "cell_type": "code",
   "execution_count": null,
   "metadata": {
    "collapsed": true
   },
   "outputs": [],
   "source": [
    "# Challenge! Try out the following methods on the sets bellow: union(), intersection(), difference()\n",
    "cities_alex = {'London','Berlin','Tokyo','Moscow'}\n",
    "cities_rafael = {'London','Paris','Kyoto','Barcelona'}\n",
    "\n",
    "print(cities_alex.union(cities_rafael))\n",
    "print(cities_alex.intersection(cities_rafael))\n",
    "print(cities_alex.difference(cities_rafael))\n",
    "print(cities_rafael.difference(cities_alex))"
   ]
  }
 ],
 "metadata": {
  "kernelspec": {
   "display_name": "Python 3",
   "language": "python",
   "name": "python3"
  },
  "language_info": {
   "codemirror_mode": {
    "name": "ipython",
    "version": 3
   },
   "file_extension": ".py",
   "mimetype": "text/x-python",
   "name": "python",
   "nbconvert_exporter": "python",
   "pygments_lexer": "ipython3",
   "version": "3.6.3"
  }
 },
 "nbformat": 4,
 "nbformat_minor": 2
}
